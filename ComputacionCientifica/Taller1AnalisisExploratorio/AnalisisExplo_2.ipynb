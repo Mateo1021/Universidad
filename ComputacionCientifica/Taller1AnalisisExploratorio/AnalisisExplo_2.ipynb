{
 "cells": [
  {
   "cell_type": "code",
   "execution_count": 1,
   "id": "8ee3c8dd-5fbe-4387-ac76-8902e96c1de3",
   "metadata": {},
   "outputs": [],
   "source": [
    "import pandas as pd\n",
    "import matplotlib.pyplot as plt\n",
    "import numpy as np\n",
    "\n",
    "# Graficar inline\n",
    "%matplotlib inline"
   ]
  },
  {
   "cell_type": "code",
   "execution_count": 2,
   "id": "c1f3646d-1870-472a-8643-c1af301ec041",
   "metadata": {},
   "outputs": [
    {
     "data": {
      "text/html": [
       "<div>\n",
       "<style scoped>\n",
       "    .dataframe tbody tr th:only-of-type {\n",
       "        vertical-align: middle;\n",
       "    }\n",
       "\n",
       "    .dataframe tbody tr th {\n",
       "        vertical-align: top;\n",
       "    }\n",
       "\n",
       "    .dataframe thead th {\n",
       "        text-align: right;\n",
       "    }\n",
       "</style>\n",
       "<table border=\"1\" class=\"dataframe\">\n",
       "  <thead>\n",
       "    <tr style=\"text-align: right;\">\n",
       "      <th></th>\n",
       "      <th>DEPARTAMENTO</th>\n",
       "      <th>MUNICIPIO</th>\n",
       "      <th>CODIGO DANE</th>\n",
       "      <th>ARMAS MEDIOS</th>\n",
       "      <th>FECHA HECHO</th>\n",
       "      <th>GENERO</th>\n",
       "      <th>GRUPO ETARIO</th>\n",
       "      <th>DESCRIPCION CONDUCTA</th>\n",
       "      <th>CANTIDAD</th>\n",
       "    </tr>\n",
       "  </thead>\n",
       "  <tbody>\n",
       "    <tr>\n",
       "      <th>0</th>\n",
       "      <td>CASANARE</td>\n",
       "      <td>YOPAL (CT)</td>\n",
       "      <td>85001000</td>\n",
       "      <td>ARMA BLANCA / CORTOPUNZANTE</td>\n",
       "      <td>03/01/2010</td>\n",
       "      <td>MASCULINO</td>\n",
       "      <td>ADULTOS</td>\n",
       "      <td>ARTÃCULO 168. SECUESTRO SIMPLE</td>\n",
       "      <td>1</td>\n",
       "    </tr>\n",
       "    <tr>\n",
       "      <th>1</th>\n",
       "      <td>ANTIOQUIA</td>\n",
       "      <td>BRICEÃO</td>\n",
       "      <td>5107000</td>\n",
       "      <td>ARMA BLANCA / CORTOPUNZANTE</td>\n",
       "      <td>05/01/2010</td>\n",
       "      <td>MASCULINO</td>\n",
       "      <td>ADULTOS</td>\n",
       "      <td>ARTÃCULO 169. SECUESTRO EXTORSIVO</td>\n",
       "      <td>1</td>\n",
       "    </tr>\n",
       "    <tr>\n",
       "      <th>2</th>\n",
       "      <td>ARAUCA</td>\n",
       "      <td>TAME</td>\n",
       "      <td>81794000</td>\n",
       "      <td>ARMA BLANCA / CORTOPUNZANTE</td>\n",
       "      <td>05/01/2010</td>\n",
       "      <td>MASCULINO</td>\n",
       "      <td>ADULTOS</td>\n",
       "      <td>ARTÃCULO 168. SECUESTRO SIMPLE</td>\n",
       "      <td>1</td>\n",
       "    </tr>\n",
       "    <tr>\n",
       "      <th>3</th>\n",
       "      <td>CESAR</td>\n",
       "      <td>AGUACHICA</td>\n",
       "      <td>20011000</td>\n",
       "      <td>ARMA BLANCA / CORTOPUNZANTE</td>\n",
       "      <td>08/01/2010</td>\n",
       "      <td>MASCULINO</td>\n",
       "      <td>ADULTOS</td>\n",
       "      <td>ARTÃCULO 169. SECUESTRO EXTORSIVO</td>\n",
       "      <td>1</td>\n",
       "    </tr>\n",
       "    <tr>\n",
       "      <th>4</th>\n",
       "      <td>GUAJIRA</td>\n",
       "      <td>DIBULLA</td>\n",
       "      <td>44090000</td>\n",
       "      <td>ARMA BLANCA / CORTOPUNZANTE</td>\n",
       "      <td>09/01/2010</td>\n",
       "      <td>FEMENINO</td>\n",
       "      <td>ADULTOS</td>\n",
       "      <td>ARTÃCULO 169. SECUESTRO EXTORSIVO</td>\n",
       "      <td>1</td>\n",
       "    </tr>\n",
       "    <tr>\n",
       "      <th>...</th>\n",
       "      <td>...</td>\n",
       "      <td>...</td>\n",
       "      <td>...</td>\n",
       "      <td>...</td>\n",
       "      <td>...</td>\n",
       "      <td>...</td>\n",
       "      <td>...</td>\n",
       "      <td>...</td>\n",
       "      <td>...</td>\n",
       "    </tr>\n",
       "    <tr>\n",
       "      <th>2524</th>\n",
       "      <td>VALLE</td>\n",
       "      <td>BUENAVENTURA</td>\n",
       "      <td>76109000</td>\n",
       "      <td>SIN EMPLEO DE ARMAS</td>\n",
       "      <td>06/06/2021</td>\n",
       "      <td>MASCULINO</td>\n",
       "      <td>ADULTOS</td>\n",
       "      <td>ARTÃCULO 168. SECUESTRO SIMPLE</td>\n",
       "      <td>2</td>\n",
       "    </tr>\n",
       "    <tr>\n",
       "      <th>2525</th>\n",
       "      <td>VALLE</td>\n",
       "      <td>BUENAVENTURA</td>\n",
       "      <td>76109000</td>\n",
       "      <td>SIN EMPLEO DE ARMAS</td>\n",
       "      <td>06/06/2021</td>\n",
       "      <td>MASCULINO</td>\n",
       "      <td>ADULTOS</td>\n",
       "      <td>ARTÃCULO 168. SECUESTRO SIMPLE</td>\n",
       "      <td>1</td>\n",
       "    </tr>\n",
       "    <tr>\n",
       "      <th>2526</th>\n",
       "      <td>TOLIMA</td>\n",
       "      <td>ARMERO</td>\n",
       "      <td>73055000</td>\n",
       "      <td>ARMA DE FUEGO</td>\n",
       "      <td>09/06/2021</td>\n",
       "      <td>MASCULINO</td>\n",
       "      <td>ADULTOS</td>\n",
       "      <td>ARTÃCULO 169. SECUESTRO EXTORSIVO</td>\n",
       "      <td>1</td>\n",
       "    </tr>\n",
       "    <tr>\n",
       "      <th>2527</th>\n",
       "      <td>TOLIMA</td>\n",
       "      <td>ARMERO</td>\n",
       "      <td>73055000</td>\n",
       "      <td>ARMA DE FUEGO</td>\n",
       "      <td>09/06/2021</td>\n",
       "      <td>MASCULINO</td>\n",
       "      <td>ADULTOS</td>\n",
       "      <td>ARTÃCULO 169. SECUESTRO EXTORSIVO</td>\n",
       "      <td>1</td>\n",
       "    </tr>\n",
       "    <tr>\n",
       "      <th>2528</th>\n",
       "      <td>VALLE</td>\n",
       "      <td>CALI (CT)</td>\n",
       "      <td>76001000</td>\n",
       "      <td>SIN EMPLEO DE ARMAS</td>\n",
       "      <td>15/06/2021</td>\n",
       "      <td>MASCULINO</td>\n",
       "      <td>ADULTOS</td>\n",
       "      <td>ARTÃCULO 168. SECUESTRO SIMPLE</td>\n",
       "      <td>1</td>\n",
       "    </tr>\n",
       "  </tbody>\n",
       "</table>\n",
       "<p>2529 rows × 9 columns</p>\n",
       "</div>"
      ],
      "text/plain": [
       "     DEPARTAMENTO     MUNICIPIO  CODIGO DANE                 ARMAS MEDIOS  \\\n",
       "0        CASANARE    YOPAL (CT)     85001000  ARMA BLANCA / CORTOPUNZANTE   \n",
       "1       ANTIOQUIA      BRICEÃO      5107000  ARMA BLANCA / CORTOPUNZANTE   \n",
       "2          ARAUCA          TAME     81794000  ARMA BLANCA / CORTOPUNZANTE   \n",
       "3           CESAR     AGUACHICA     20011000  ARMA BLANCA / CORTOPUNZANTE   \n",
       "4         GUAJIRA       DIBULLA     44090000  ARMA BLANCA / CORTOPUNZANTE   \n",
       "...           ...           ...          ...                          ...   \n",
       "2524        VALLE  BUENAVENTURA     76109000          SIN EMPLEO DE ARMAS   \n",
       "2525        VALLE  BUENAVENTURA     76109000          SIN EMPLEO DE ARMAS   \n",
       "2526       TOLIMA        ARMERO     73055000                ARMA DE FUEGO   \n",
       "2527       TOLIMA        ARMERO     73055000                ARMA DE FUEGO   \n",
       "2528        VALLE     CALI (CT)     76001000          SIN EMPLEO DE ARMAS   \n",
       "\n",
       "     FECHA HECHO     GENERO GRUPO ETARIO                DESCRIPCION CONDUCTA  \\\n",
       "0     03/01/2010  MASCULINO      ADULTOS     ARTÃCULO 168. SECUESTRO SIMPLE   \n",
       "1     05/01/2010  MASCULINO      ADULTOS  ARTÃCULO 169. SECUESTRO EXTORSIVO   \n",
       "2     05/01/2010  MASCULINO      ADULTOS     ARTÃCULO 168. SECUESTRO SIMPLE   \n",
       "3     08/01/2010  MASCULINO      ADULTOS  ARTÃCULO 169. SECUESTRO EXTORSIVO   \n",
       "4     09/01/2010   FEMENINO      ADULTOS  ARTÃCULO 169. SECUESTRO EXTORSIVO   \n",
       "...          ...        ...          ...                                 ...   \n",
       "2524  06/06/2021  MASCULINO      ADULTOS     ARTÃCULO 168. SECUESTRO SIMPLE   \n",
       "2525  06/06/2021  MASCULINO      ADULTOS     ARTÃCULO 168. SECUESTRO SIMPLE   \n",
       "2526  09/06/2021  MASCULINO      ADULTOS  ARTÃCULO 169. SECUESTRO EXTORSIVO   \n",
       "2527  09/06/2021  MASCULINO      ADULTOS  ARTÃCULO 169. SECUESTRO EXTORSIVO   \n",
       "2528  15/06/2021  MASCULINO      ADULTOS     ARTÃCULO 168. SECUESTRO SIMPLE   \n",
       "\n",
       "      CANTIDAD  \n",
       "0            1  \n",
       "1            1  \n",
       "2            1  \n",
       "3            1  \n",
       "4            1  \n",
       "...        ...  \n",
       "2524         2  \n",
       "2525         1  \n",
       "2526         1  \n",
       "2527         1  \n",
       "2528         1  \n",
       "\n",
       "[2529 rows x 9 columns]"
      ]
     },
     "execution_count": 2,
     "metadata": {},
     "output_type": "execute_result"
    }
   ],
   "source": [
    "secuestro = pd.read_csv(\"./datos/Reporte_Delito_Secuestro_Polic_a_Nacional.csv\", encoding = \"latin-1\")\n",
    "secuestro\n"
   ]
  },
  {
   "cell_type": "code",
   "execution_count": 3,
   "id": "8f10ac2c-d119-4ca9-b16d-6c91f3596da7",
   "metadata": {},
   "outputs": [
    {
     "data": {
      "text/plain": [
       "(2529, 9)"
      ]
     },
     "execution_count": 3,
     "metadata": {},
     "output_type": "execute_result"
    }
   ],
   "source": [
    "secuestro.shape\n"
   ]
  },
  {
   "cell_type": "code",
   "execution_count": 4,
   "id": "8d52f45c-1d80-4a57-aef8-183756e8a340",
   "metadata": {},
   "outputs": [
    {
     "data": {
      "text/plain": [
       "DEPARTAMENTO            object\n",
       "MUNICIPIO               object\n",
       "CODIGO DANE              int64\n",
       "ARMAS MEDIOS            object\n",
       "FECHA HECHO             object\n",
       "GENERO                  object\n",
       "GRUPO ETARIO            object\n",
       "DESCRIPCION CONDUCTA    object\n",
       "CANTIDAD                 int64\n",
       "dtype: object"
      ]
     },
     "execution_count": 4,
     "metadata": {},
     "output_type": "execute_result"
    }
   ],
   "source": [
    "secuestro.dtypes\n"
   ]
  },
  {
   "cell_type": "code",
   "execution_count": 5,
   "id": "6612de3f-8940-4f8f-a196-566bb3258fa5",
   "metadata": {},
   "outputs": [
    {
     "data": {
      "text/html": [
       "<div>\n",
       "<style scoped>\n",
       "    .dataframe tbody tr th:only-of-type {\n",
       "        vertical-align: middle;\n",
       "    }\n",
       "\n",
       "    .dataframe tbody tr th {\n",
       "        vertical-align: top;\n",
       "    }\n",
       "\n",
       "    .dataframe thead th {\n",
       "        text-align: right;\n",
       "    }\n",
       "</style>\n",
       "<table border=\"1\" class=\"dataframe\">\n",
       "  <thead>\n",
       "    <tr style=\"text-align: right;\">\n",
       "      <th></th>\n",
       "      <th>DEPARTAMENTO</th>\n",
       "      <th>MUNICIPIO</th>\n",
       "      <th>CODIGO DANE</th>\n",
       "      <th>ARMAS MEDIOS</th>\n",
       "      <th>FECHA HECHO</th>\n",
       "      <th>GENERO</th>\n",
       "      <th>GRUPO ETARIO</th>\n",
       "      <th>DESCRIPCION CONDUCTA</th>\n",
       "      <th>CANTIDAD</th>\n",
       "    </tr>\n",
       "  </thead>\n",
       "  <tbody>\n",
       "    <tr>\n",
       "      <th>0</th>\n",
       "      <td>CASANARE</td>\n",
       "      <td>YOPAL (CT)</td>\n",
       "      <td>85001000</td>\n",
       "      <td>ARMA BLANCA / CORTOPUNZANTE</td>\n",
       "      <td>03/01/2010</td>\n",
       "      <td>MASCULINO</td>\n",
       "      <td>ADULTOS</td>\n",
       "      <td>ARTÃCULO 168. SECUESTRO SIMPLE</td>\n",
       "      <td>1</td>\n",
       "    </tr>\n",
       "    <tr>\n",
       "      <th>1</th>\n",
       "      <td>ANTIOQUIA</td>\n",
       "      <td>BRICEÃO</td>\n",
       "      <td>5107000</td>\n",
       "      <td>ARMA BLANCA / CORTOPUNZANTE</td>\n",
       "      <td>05/01/2010</td>\n",
       "      <td>MASCULINO</td>\n",
       "      <td>ADULTOS</td>\n",
       "      <td>ARTÃCULO 169. SECUESTRO EXTORSIVO</td>\n",
       "      <td>1</td>\n",
       "    </tr>\n",
       "    <tr>\n",
       "      <th>2</th>\n",
       "      <td>ARAUCA</td>\n",
       "      <td>TAME</td>\n",
       "      <td>81794000</td>\n",
       "      <td>ARMA BLANCA / CORTOPUNZANTE</td>\n",
       "      <td>05/01/2010</td>\n",
       "      <td>MASCULINO</td>\n",
       "      <td>ADULTOS</td>\n",
       "      <td>ARTÃCULO 168. SECUESTRO SIMPLE</td>\n",
       "      <td>1</td>\n",
       "    </tr>\n",
       "    <tr>\n",
       "      <th>3</th>\n",
       "      <td>CESAR</td>\n",
       "      <td>AGUACHICA</td>\n",
       "      <td>20011000</td>\n",
       "      <td>ARMA BLANCA / CORTOPUNZANTE</td>\n",
       "      <td>08/01/2010</td>\n",
       "      <td>MASCULINO</td>\n",
       "      <td>ADULTOS</td>\n",
       "      <td>ARTÃCULO 169. SECUESTRO EXTORSIVO</td>\n",
       "      <td>1</td>\n",
       "    </tr>\n",
       "    <tr>\n",
       "      <th>4</th>\n",
       "      <td>GUAJIRA</td>\n",
       "      <td>DIBULLA</td>\n",
       "      <td>44090000</td>\n",
       "      <td>ARMA BLANCA / CORTOPUNZANTE</td>\n",
       "      <td>09/01/2010</td>\n",
       "      <td>FEMENINO</td>\n",
       "      <td>ADULTOS</td>\n",
       "      <td>ARTÃCULO 169. SECUESTRO EXTORSIVO</td>\n",
       "      <td>1</td>\n",
       "    </tr>\n",
       "    <tr>\n",
       "      <th>...</th>\n",
       "      <td>...</td>\n",
       "      <td>...</td>\n",
       "      <td>...</td>\n",
       "      <td>...</td>\n",
       "      <td>...</td>\n",
       "      <td>...</td>\n",
       "      <td>...</td>\n",
       "      <td>...</td>\n",
       "      <td>...</td>\n",
       "    </tr>\n",
       "    <tr>\n",
       "      <th>2523</th>\n",
       "      <td>ATLÃNTICO</td>\n",
       "      <td>BARRANQUILLA (CT)</td>\n",
       "      <td>8001000</td>\n",
       "      <td>SIN EMPLEO DE ARMAS</td>\n",
       "      <td>03/06/2021</td>\n",
       "      <td>FEMENINO</td>\n",
       "      <td>ADULTOS</td>\n",
       "      <td>ARTÃCULO 169. SECUESTRO EXTORSIVO</td>\n",
       "      <td>1</td>\n",
       "    </tr>\n",
       "    <tr>\n",
       "      <th>2524</th>\n",
       "      <td>VALLE</td>\n",
       "      <td>BUENAVENTURA</td>\n",
       "      <td>76109000</td>\n",
       "      <td>SIN EMPLEO DE ARMAS</td>\n",
       "      <td>06/06/2021</td>\n",
       "      <td>MASCULINO</td>\n",
       "      <td>ADULTOS</td>\n",
       "      <td>ARTÃCULO 168. SECUESTRO SIMPLE</td>\n",
       "      <td>2</td>\n",
       "    </tr>\n",
       "    <tr>\n",
       "      <th>2525</th>\n",
       "      <td>VALLE</td>\n",
       "      <td>BUENAVENTURA</td>\n",
       "      <td>76109000</td>\n",
       "      <td>SIN EMPLEO DE ARMAS</td>\n",
       "      <td>06/06/2021</td>\n",
       "      <td>MASCULINO</td>\n",
       "      <td>ADULTOS</td>\n",
       "      <td>ARTÃCULO 168. SECUESTRO SIMPLE</td>\n",
       "      <td>1</td>\n",
       "    </tr>\n",
       "    <tr>\n",
       "      <th>2526</th>\n",
       "      <td>TOLIMA</td>\n",
       "      <td>ARMERO</td>\n",
       "      <td>73055000</td>\n",
       "      <td>ARMA DE FUEGO</td>\n",
       "      <td>09/06/2021</td>\n",
       "      <td>MASCULINO</td>\n",
       "      <td>ADULTOS</td>\n",
       "      <td>ARTÃCULO 169. SECUESTRO EXTORSIVO</td>\n",
       "      <td>1</td>\n",
       "    </tr>\n",
       "    <tr>\n",
       "      <th>2528</th>\n",
       "      <td>VALLE</td>\n",
       "      <td>CALI (CT)</td>\n",
       "      <td>76001000</td>\n",
       "      <td>SIN EMPLEO DE ARMAS</td>\n",
       "      <td>15/06/2021</td>\n",
       "      <td>MASCULINO</td>\n",
       "      <td>ADULTOS</td>\n",
       "      <td>ARTÃCULO 168. SECUESTRO SIMPLE</td>\n",
       "      <td>1</td>\n",
       "    </tr>\n",
       "  </tbody>\n",
       "</table>\n",
       "<p>2285 rows × 9 columns</p>\n",
       "</div>"
      ],
      "text/plain": [
       "     DEPARTAMENTO          MUNICIPIO  CODIGO DANE  \\\n",
       "0        CASANARE         YOPAL (CT)     85001000   \n",
       "1       ANTIOQUIA           BRICEÃO      5107000   \n",
       "2          ARAUCA               TAME     81794000   \n",
       "3           CESAR          AGUACHICA     20011000   \n",
       "4         GUAJIRA            DIBULLA     44090000   \n",
       "...           ...                ...          ...   \n",
       "2523   ATLÃNTICO  BARRANQUILLA (CT)      8001000   \n",
       "2524        VALLE       BUENAVENTURA     76109000   \n",
       "2525        VALLE       BUENAVENTURA     76109000   \n",
       "2526       TOLIMA             ARMERO     73055000   \n",
       "2528        VALLE          CALI (CT)     76001000   \n",
       "\n",
       "                     ARMAS MEDIOS FECHA HECHO     GENERO GRUPO ETARIO  \\\n",
       "0     ARMA BLANCA / CORTOPUNZANTE  03/01/2010  MASCULINO      ADULTOS   \n",
       "1     ARMA BLANCA / CORTOPUNZANTE  05/01/2010  MASCULINO      ADULTOS   \n",
       "2     ARMA BLANCA / CORTOPUNZANTE  05/01/2010  MASCULINO      ADULTOS   \n",
       "3     ARMA BLANCA / CORTOPUNZANTE  08/01/2010  MASCULINO      ADULTOS   \n",
       "4     ARMA BLANCA / CORTOPUNZANTE  09/01/2010   FEMENINO      ADULTOS   \n",
       "...                           ...         ...        ...          ...   \n",
       "2523          SIN EMPLEO DE ARMAS  03/06/2021   FEMENINO      ADULTOS   \n",
       "2524          SIN EMPLEO DE ARMAS  06/06/2021  MASCULINO      ADULTOS   \n",
       "2525          SIN EMPLEO DE ARMAS  06/06/2021  MASCULINO      ADULTOS   \n",
       "2526                ARMA DE FUEGO  09/06/2021  MASCULINO      ADULTOS   \n",
       "2528          SIN EMPLEO DE ARMAS  15/06/2021  MASCULINO      ADULTOS   \n",
       "\n",
       "                    DESCRIPCION CONDUCTA  CANTIDAD  \n",
       "0        ARTÃCULO 168. SECUESTRO SIMPLE         1  \n",
       "1     ARTÃCULO 169. SECUESTRO EXTORSIVO         1  \n",
       "2        ARTÃCULO 168. SECUESTRO SIMPLE         1  \n",
       "3     ARTÃCULO 169. SECUESTRO EXTORSIVO         1  \n",
       "4     ARTÃCULO 169. SECUESTRO EXTORSIVO         1  \n",
       "...                                  ...       ...  \n",
       "2523  ARTÃCULO 169. SECUESTRO EXTORSIVO         1  \n",
       "2524     ARTÃCULO 168. SECUESTRO SIMPLE         2  \n",
       "2525     ARTÃCULO 168. SECUESTRO SIMPLE         1  \n",
       "2526  ARTÃCULO 169. SECUESTRO EXTORSIVO         1  \n",
       "2528     ARTÃCULO 168. SECUESTRO SIMPLE         1  \n",
       "\n",
       "[2285 rows x 9 columns]"
      ]
     },
     "execution_count": 5,
     "metadata": {},
     "output_type": "execute_result"
    }
   ],
   "source": [
    "secuestro.drop_duplicates()\n",
    "## Como recomendacion para mejorar la calidad de los datos se eliminaron los datos repetidos"
   ]
  },
  {
   "cell_type": "code",
   "execution_count": 6,
   "id": "182153e8-9b23-4bf3-8bc1-980ab25aefac",
   "metadata": {},
   "outputs": [],
   "source": [
    "secuestro['FECHA HECHO'] = pd.to_datetime(secuestro['FECHA HECHO'])\n",
    "## Como recomendacion para mejorar la calidad de los datos se cambio el formato de la fecha a datetime"
   ]
  },
  {
   "cell_type": "code",
   "execution_count": 10,
   "id": "882c5052-6e95-41f5-8bcd-cad88f111192",
   "metadata": {},
   "outputs": [
    {
     "data": {
      "text/plain": [
       "<AxesSubplot:>"
      ]
     },
     "execution_count": 10,
     "metadata": {},
     "output_type": "execute_result"
    },
    {
     "data": {
      "image/png": "[encoded data removed]",
      "text/plain": [
       "<Figure size 432x288 with 1 Axes>"
      ]
     },
     "metadata": {
      "needs_background": "light"
     },
     "output_type": "display_data"
    }
   ],
   "source": [
    "\n",
    "## 1 Parte 1 - Top 3 departamentos que evidencias casos de secuestro a nivel historico \n",
    "departamento_f = secuestro['DEPARTAMENTO'].value_counts().to_frame()\n",
    "departamento_f.head(3).plot(kind = \"bar\")\n",
    "## Como se puede evidenciar que el TOP 3 de departamentos mayor mente afectados historicamente son valle, cundinamarca y antioquia  "
   ]
  },
  {
   "cell_type": "code",
   "execution_count": 11,
   "id": "2c7e4c37-0650-419c-acf6-8688cb981019",
   "metadata": {},
   "outputs": [
    {
     "data": {
      "text/plain": [
       "<AxesSubplot:>"
      ]
     },
     "execution_count": 11,
     "metadata": {},
     "output_type": "execute_result"
    },
    {
     "data": {
      "image/png": "[encoded data removed]",
      "text/plain": [
       "<Figure size 432x288 with 1 Axes>"
      ]
     },
     "metadata": {
      "needs_background": "light"
     },
     "output_type": "display_data"
    }
   ],
   "source": [
    "## 1 Parte 2 - Top 3 departamentos que evidencias casos de secuestro en el ultimo año\n",
    "filtered_d= secuestro[secuestro['FECHA HECHO'].isin(pd.date_range('2020-01-01', '2020-12-30'))]\n",
    "frecuencia = filtered_d['DEPARTAMENTO'].value_counts().to_frame()\n",
    "frecuencia.head(3).plot(kind = \"bar\")"
   ]
  },
  {
   "cell_type": "code",
   "execution_count": 12,
   "id": "d5dd6401-6696-4fe1-bd73-93eeae35823a",
   "metadata": {},
   "outputs": [],
   "source": [
    "## Como se puede evidenciar que el TOP 3 de departamentos mayor mente afectados en el ultimo año (2020). siguen siendo cundinamarca, antioquia y valle.\n",
    "## sin embargo se ve un cambio en el orden ya que antioquia pasa de tener la menor cantidad a la mayor en el ultimo año "
   ]
  },
  {
   "cell_type": "code",
   "execution_count": 13,
   "id": "831956d2-bc30-409c-8f22-044abb3defd0",
   "metadata": {},
   "outputs": [
    {
     "data": {
      "text/plain": [
       "<AxesSubplot:>"
      ]
     },
     "execution_count": 13,
     "metadata": {},
     "output_type": "execute_result"
    },
    {
     "data": {
      "image/png": "[encoded data removed]",
      "text/plain": [
       "<Figure size 432x288 with 1 Axes>"
      ]
     },
     "metadata": {
      "needs_background": "light"
     },
     "output_type": "display_data"
    }
   ],
   "source": [
    "##2 Arma mas frecuente\n",
    "arma_f = secuestro['ARMAS MEDIOS'].value_counts().to_frame()\n",
    "arma_f.head(3).plot(kind = \"bar\")"
   ]
  },
  {
   "cell_type": "code",
   "execution_count": 14,
   "id": "dc12c7a5-ad2e-46d3-934f-bc7e453901ee",
   "metadata": {},
   "outputs": [
    {
     "data": {
      "text/plain": [
       "ARMA BLANCA / CORTOPUNZANTE    38.987742\n",
       "ARMA DE FUEGO                  33.886912\n",
       "NO REPORTADO                   15.065243\n",
       "-                               6.761566\n",
       "SIN EMPLEO DE ARMAS             4.942665\n",
       "ESPOSAS                         0.276789\n",
       "CONTUNDENTES                    0.039541\n",
       "ARMAS BLANCAS                   0.039541\n",
       "Name: ARMAS MEDIOS, dtype: float64"
      ]
     },
     "execution_count": 14,
     "metadata": {},
     "output_type": "execute_result"
    }
   ],
   "source": [
    "## a pesar de que no es por mucho el arma blanca predomina en ser el elemento mayor usado para este crimen\n",
    "arma_f_p = secuestro['ARMAS MEDIOS'].value_counts(normalize=True)*100\n",
    "arma_f_p\n"
   ]
  },
  {
   "cell_type": "code",
   "execution_count": 15,
   "id": "6310f9ea-360a-443d-b213-0d12d85db680",
   "metadata": {},
   "outputs": [
    {
     "data": {
      "text/plain": [
       "<AxesSubplot:>"
      ]
     },
     "execution_count": 15,
     "metadata": {},
     "output_type": "execute_result"
    },
    {
     "data": {
      "image/png": "[encoded data removed]",
      "text/plain": [
       "<Figure size 432x288 with 1 Axes>"
      ]
     },
     "metadata": {
      "needs_background": "light"
     },
     "output_type": "display_data"
    }
   ],
   "source": [
    "grupo_f = secuestro['GRUPO ETARIO'].value_counts().plot(kind = \"bar\")\n",
    "grupo_f"
   ]
  },
  {
   "cell_type": "code",
   "execution_count": 16,
   "id": "a781df76-9238-4b27-ab3f-b0874c8d566b",
   "metadata": {},
   "outputs": [
    {
     "data": {
      "text/plain": [
       "ADULTOS        86.431962\n",
       "MENORES         9.533228\n",
       "ADOLECENTES     4.034810\n",
       "Name: GRUPO ETARIO, dtype: float64"
      ]
     },
     "execution_count": 16,
     "metadata": {},
     "output_type": "execute_result"
    }
   ],
   "source": [
    "grupo_f_p = secuestro['GRUPO ETARIO'].value_counts(normalize=True)*100\n",
    "grupo_f_p\n",
    "## en este caso vemos que el secuestro se aplica en el 86% de los casos a adultos"
   ]
  },
  {
   "cell_type": "code",
   "execution_count": 17,
   "id": "28ce6837-64c4-45cb-a010-d496830e628b",
   "metadata": {},
   "outputs": [
    {
     "data": {
      "text/plain": [
       "<AxesSubplot:>"
      ]
     },
     "execution_count": 17,
     "metadata": {},
     "output_type": "execute_result"
    },
    {
     "data": {
      "image/png": "[encoded data removed]",
      "text/plain": [
       "<Figure size 432x288 with 1 Axes>"
      ]
     },
     "metadata": {
      "needs_background": "light"
     },
     "output_type": "display_data"
    }
   ],
   "source": [
    "genero_f = secuestro['GENERO'].value_counts().plot(kind = \"bar\")\n",
    "genero_f"
   ]
  },
  {
   "cell_type": "code",
   "execution_count": 18,
   "id": "1b646e4e-c385-44a0-8876-f37f6e60cdbe",
   "metadata": {},
   "outputs": [],
   "source": [
    "## y de igual froma el genero masculio sobrepasa por mas de la mitad al femenino "
   ]
  },
  {
   "cell_type": "code",
   "execution_count": 19,
   "id": "9cfacad5-b00b-4844-ab36-0618526832cf",
   "metadata": {},
   "outputs": [
    {
     "data": {
      "text/plain": [
       "<AxesSubplot:>"
      ]
     },
     "execution_count": 19,
     "metadata": {},
     "output_type": "execute_result"
    },
    {
     "data": {
      "image/png": "[encoded data removed]",
      "text/plain": [
       "<Figure size 432x288 with 1 Axes>"
      ]
     },
     "metadata": {
      "needs_background": "light"
     },
     "output_type": "display_data"
    }
   ],
   "source": [
    "fechas_d=secuestro['FECHA HECHO'].dt.month.value_counts().to_frame()\n",
    "fechas_d.head(3).plot(kind = \"bar\")\n",
    "##4 Se puede evidenciar que la tendencia para cometer este delito es en el mes de marzo (3)"
   ]
  },
  {
   "cell_type": "code",
   "execution_count": 20,
   "id": "59dd7d4e-7071-431a-bfd5-fd367d6d69a6",
   "metadata": {},
   "outputs": [
    {
     "data": {
      "text/html": [
       "<div>\n",
       "<style scoped>\n",
       "    .dataframe tbody tr th:only-of-type {\n",
       "        vertical-align: middle;\n",
       "    }\n",
       "\n",
       "    .dataframe tbody tr th {\n",
       "        vertical-align: top;\n",
       "    }\n",
       "\n",
       "    .dataframe thead th {\n",
       "        text-align: right;\n",
       "    }\n",
       "</style>\n",
       "<table border=\"1\" class=\"dataframe\">\n",
       "  <thead>\n",
       "    <tr style=\"text-align: right;\">\n",
       "      <th></th>\n",
       "      <th>DESCRIPCION CONDUCTA</th>\n",
       "    </tr>\n",
       "  </thead>\n",
       "  <tbody>\n",
       "    <tr>\n",
       "      <th>ARTÃCULO 169. SECUESTRO EXTORSIVO</th>\n",
       "      <td>1502</td>\n",
       "    </tr>\n",
       "    <tr>\n",
       "      <th>ARTÃCULO 168. SECUESTRO SIMPLE</th>\n",
       "      <td>1027</td>\n",
       "    </tr>\n",
       "  </tbody>\n",
       "</table>\n",
       "</div>"
      ],
      "text/plain": [
       "                                    DESCRIPCION CONDUCTA\n",
       "ARTÃCULO 169. SECUESTRO EXTORSIVO                  1502\n",
       "ARTÃCULO 168. SECUESTRO SIMPLE                     1027"
      ]
     },
     "execution_count": 20,
     "metadata": {},
     "output_type": "execute_result"
    }
   ],
   "source": [
    "delito_f=secuestro['DESCRIPCION CONDUCTA'].value_counts().to_frame()\n",
    "delito_f"
   ]
  },
  {
   "cell_type": "code",
   "execution_count": 21,
   "id": "2c2b9652-369b-415e-9aa3-0cb76bb650a9",
   "metadata": {},
   "outputs": [],
   "source": [
    "##En este caso solo existen dos tipos de secuestro estipulados en la constitucion colombiana "
   ]
  },
  {
   "cell_type": "code",
   "execution_count": 22,
   "id": "b91b0f59-b528-4095-bd4f-cc9bf9a731b0",
   "metadata": {},
   "outputs": [],
   "source": [
    "##Lamentablenmente los dataSet Seleccionados no cuentan con variables cuantitativas para poder realizar un analisis mas profondo de los datos. "
   ]
  },
  {
   "cell_type": "code",
   "execution_count": null,
   "id": "087c501d-f3df-4d26-a51c-652ed726ae91",
   "metadata": {},
   "outputs": [],
   "source": []
  },
  {
   "cell_type": "code",
   "execution_count": null,
   "id": "3e1c8ebb-7777-4767-b9f3-ce98fe0f12ec",
   "metadata": {},
   "outputs": [],
   "source": []
  }
 ],
 "metadata": {
  "kernelspec": {
   "display_name": "Python 3",
   "language": "python",
   "name": "python3"
  },
  "language_info": {
   "codemirror_mode": {
    "name": "ipython",
    "version": 3
   },
   "file_extension": ".py",
   "mimetype": "text/x-python",
   "name": "python",
   "nbconvert_exporter": "python",
   "pygments_lexer": "ipython3",
   "version": "3.8.8"
  }
 },
 "nbformat": 4,
 "nbformat_minor": 5
}
