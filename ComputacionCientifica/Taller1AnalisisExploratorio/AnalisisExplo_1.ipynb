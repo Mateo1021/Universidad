{
 "cells": [
  {
   "cell_type": "code",
   "execution_count": 116,
   "id": "8ee3c8dd-5fbe-4387-ac76-8902e96c1de3",
   "metadata": {},
   "outputs": [],
   "source": [
    "import pandas as pd\n",
    "import matplotlib.pyplot as plt\n",
    "import numpy as np\n",
    "import seaborn as sbn\n",
    "\n",
    "# Graficar inline\n",
    "%matplotlib inline"
   ]
  },
  {
   "cell_type": "code",
   "execution_count": 117,
   "id": "c1f3646d-1870-472a-8643-c1af301ec041",
   "metadata": {},
   "outputs": [
    {
     "data": {
      "text/html": [
       "<div>\n",
       "<style scoped>\n",
       "    .dataframe tbody tr th:only-of-type {\n",
       "        vertical-align: middle;\n",
       "    }\n",
       "\n",
       "    .dataframe tbody tr th {\n",
       "        vertical-align: top;\n",
       "    }\n",
       "\n",
       "    .dataframe thead th {\n",
       "        text-align: right;\n",
       "    }\n",
       "</style>\n",
       "<table border=\"1\" class=\"dataframe\">\n",
       "  <thead>\n",
       "    <tr style=\"text-align: right;\">\n",
       "      <th></th>\n",
       "      <th>DEPARTAMENTO</th>\n",
       "      <th>MUNICIPIO</th>\n",
       "      <th>CODIGO DANE</th>\n",
       "      <th>ARMAS MEDIOS</th>\n",
       "      <th>FECHA HECHO</th>\n",
       "      <th>GENERO</th>\n",
       "      <th>GRUPO ETARIO</th>\n",
       "      <th>CANTIDAD</th>\n",
       "      <th>delito</th>\n",
       "    </tr>\n",
       "  </thead>\n",
       "  <tbody>\n",
       "    <tr>\n",
       "      <th>0</th>\n",
       "      <td>ANTIOQUIA</td>\n",
       "      <td>NECOCLÃ</td>\n",
       "      <td>5490000</td>\n",
       "      <td>NO REPORTADO</td>\n",
       "      <td>1/01/2010</td>\n",
       "      <td>FEMENINO</td>\n",
       "      <td>MENORES</td>\n",
       "      <td>1</td>\n",
       "      <td>ARTÃCULO 208. ACCESO CARNAL ABUSIVO CON MENOR...</td>\n",
       "    </tr>\n",
       "    <tr>\n",
       "      <th>1</th>\n",
       "      <td>ANTIOQUIA</td>\n",
       "      <td>TURBO</td>\n",
       "      <td>5837000</td>\n",
       "      <td>SIN EMPLEO DE ARMAS</td>\n",
       "      <td>1/01/2010</td>\n",
       "      <td>NO REPORTA</td>\n",
       "      <td>ADULTOS</td>\n",
       "      <td>1</td>\n",
       "      <td>ARTÃCULO 208. ACCESO CARNAL ABUSIVO CON MENOR...</td>\n",
       "    </tr>\n",
       "    <tr>\n",
       "      <th>2</th>\n",
       "      <td>ARAUCA</td>\n",
       "      <td>ARAUCA (CT)</td>\n",
       "      <td>81001000</td>\n",
       "      <td>NO REPORTADO</td>\n",
       "      <td>1/01/2010</td>\n",
       "      <td>FEMENINO</td>\n",
       "      <td>MENORES</td>\n",
       "      <td>1</td>\n",
       "      <td>ARTÃCULO 210 A. ACOSO SEXUAL</td>\n",
       "    </tr>\n",
       "    <tr>\n",
       "      <th>3</th>\n",
       "      <td>ARAUCA</td>\n",
       "      <td>ARAUCA (CT)</td>\n",
       "      <td>81001000</td>\n",
       "      <td>NO REPORTADO</td>\n",
       "      <td>1/01/2010</td>\n",
       "      <td>FEMENINO</td>\n",
       "      <td>ADOLECENTES</td>\n",
       "      <td>1</td>\n",
       "      <td>ARTÃCULO 210 A. ACOSO SEXUAL</td>\n",
       "    </tr>\n",
       "    <tr>\n",
       "      <th>4</th>\n",
       "      <td>ATLÃNTICO</td>\n",
       "      <td>SOLEDAD</td>\n",
       "      <td>8758000</td>\n",
       "      <td>NO REPORTA</td>\n",
       "      <td>1/01/2010</td>\n",
       "      <td>FEMENINO</td>\n",
       "      <td>MENORES</td>\n",
       "      <td>1</td>\n",
       "      <td>ARTÃCULO 209. ACTOS SEXUALES CON MENOR DE 14 ...</td>\n",
       "    </tr>\n",
       "    <tr>\n",
       "      <th>...</th>\n",
       "      <td>...</td>\n",
       "      <td>...</td>\n",
       "      <td>...</td>\n",
       "      <td>...</td>\n",
       "      <td>...</td>\n",
       "      <td>...</td>\n",
       "      <td>...</td>\n",
       "      <td>...</td>\n",
       "      <td>...</td>\n",
       "    </tr>\n",
       "    <tr>\n",
       "      <th>239204</th>\n",
       "      <td>META</td>\n",
       "      <td>GRANADA</td>\n",
       "      <td>50313000</td>\n",
       "      <td>CONTUNDENTES</td>\n",
       "      <td>31/07/2021</td>\n",
       "      <td>MASCULINO</td>\n",
       "      <td>ADOLECENTES</td>\n",
       "      <td>1</td>\n",
       "      <td>ARTÃCULO 205. ACCESO CARNAL VIOLENTO</td>\n",
       "    </tr>\n",
       "    <tr>\n",
       "      <th>239205</th>\n",
       "      <td>RISARALDA</td>\n",
       "      <td>PEREIRA (CT)</td>\n",
       "      <td>66001000</td>\n",
       "      <td>SIN EMPLEO DE ARMAS</td>\n",
       "      <td>31/07/2021</td>\n",
       "      <td>FEMENINO</td>\n",
       "      <td>NO REPORTA</td>\n",
       "      <td>1</td>\n",
       "      <td>ARTÃCULO 206. ACTO SEXUAL VIOLENTO</td>\n",
       "    </tr>\n",
       "    <tr>\n",
       "      <th>239206</th>\n",
       "      <td>TOLIMA</td>\n",
       "      <td>IBAGUÃ (CT)</td>\n",
       "      <td>73001000</td>\n",
       "      <td>SIN EMPLEO DE ARMAS</td>\n",
       "      <td>31/07/2021</td>\n",
       "      <td>FEMENINO</td>\n",
       "      <td>ADULTOS</td>\n",
       "      <td>1</td>\n",
       "      <td>ARTÃCULO 206. ACTO SEXUAL VIOLENTO</td>\n",
       "    </tr>\n",
       "    <tr>\n",
       "      <th>239207</th>\n",
       "      <td>TOLIMA</td>\n",
       "      <td>SAN ANTONIO</td>\n",
       "      <td>73675000</td>\n",
       "      <td>SIN EMPLEO DE ARMAS</td>\n",
       "      <td>31/07/2021</td>\n",
       "      <td>FEMENINO</td>\n",
       "      <td>ADULTOS</td>\n",
       "      <td>1</td>\n",
       "      <td>ARTÃCULO 205. ACCESO CARNAL VIOLENTO</td>\n",
       "    </tr>\n",
       "    <tr>\n",
       "      <th>239208</th>\n",
       "      <td>VALLE</td>\n",
       "      <td>CALI (CT)</td>\n",
       "      <td>76001000</td>\n",
       "      <td>SIN EMPLEO DE ARMAS</td>\n",
       "      <td>31/07/2021</td>\n",
       "      <td>FEMENINO</td>\n",
       "      <td>ADOLECENTES</td>\n",
       "      <td>1</td>\n",
       "      <td>ARTÃCULO 209. ACTOS SEXUALES CON MENOR DE 14 ...</td>\n",
       "    </tr>\n",
       "  </tbody>\n",
       "</table>\n",
       "<p>239209 rows × 9 columns</p>\n",
       "</div>"
      ],
      "text/plain": [
       "       DEPARTAMENTO     MUNICIPIO  CODIGO DANE         ARMAS MEDIOS  \\\n",
       "0         ANTIOQUIA      NECOCLÃ      5490000         NO REPORTADO   \n",
       "1         ANTIOQUIA         TURBO      5837000  SIN EMPLEO DE ARMAS   \n",
       "2            ARAUCA   ARAUCA (CT)     81001000         NO REPORTADO   \n",
       "3            ARAUCA   ARAUCA (CT)     81001000         NO REPORTADO   \n",
       "4        ATLÃNTICO       SOLEDAD      8758000           NO REPORTA   \n",
       "...             ...           ...          ...                  ...   \n",
       "239204         META       GRANADA     50313000         CONTUNDENTES   \n",
       "239205    RISARALDA  PEREIRA (CT)     66001000  SIN EMPLEO DE ARMAS   \n",
       "239206       TOLIMA  IBAGUÃ (CT)     73001000  SIN EMPLEO DE ARMAS   \n",
       "239207       TOLIMA   SAN ANTONIO     73675000  SIN EMPLEO DE ARMAS   \n",
       "239208        VALLE     CALI (CT)     76001000  SIN EMPLEO DE ARMAS   \n",
       "\n",
       "       FECHA HECHO      GENERO GRUPO ETARIO  CANTIDAD  \\\n",
       "0        1/01/2010    FEMENINO      MENORES         1   \n",
       "1        1/01/2010  NO REPORTA      ADULTOS         1   \n",
       "2        1/01/2010    FEMENINO      MENORES         1   \n",
       "3        1/01/2010    FEMENINO  ADOLECENTES         1   \n",
       "4        1/01/2010    FEMENINO      MENORES         1   \n",
       "...            ...         ...          ...       ...   \n",
       "239204  31/07/2021   MASCULINO  ADOLECENTES         1   \n",
       "239205  31/07/2021    FEMENINO   NO REPORTA         1   \n",
       "239206  31/07/2021    FEMENINO      ADULTOS         1   \n",
       "239207  31/07/2021    FEMENINO      ADULTOS         1   \n",
       "239208  31/07/2021    FEMENINO  ADOLECENTES         1   \n",
       "\n",
       "                                                   delito  \n",
       "0       ARTÃCULO 208. ACCESO CARNAL ABUSIVO CON MENOR...  \n",
       "1       ARTÃCULO 208. ACCESO CARNAL ABUSIVO CON MENOR...  \n",
       "2                           ARTÃCULO 210 A. ACOSO SEXUAL  \n",
       "3                           ARTÃCULO 210 A. ACOSO SEXUAL  \n",
       "4       ARTÃCULO 209. ACTOS SEXUALES CON MENOR DE 14 ...  \n",
       "...                                                   ...  \n",
       "239204              ARTÃCULO 205. ACCESO CARNAL VIOLENTO  \n",
       "239205                ARTÃCULO 206. ACTO SEXUAL VIOLENTO  \n",
       "239206                ARTÃCULO 206. ACTO SEXUAL VIOLENTO  \n",
       "239207              ARTÃCULO 205. ACCESO CARNAL VIOLENTO  \n",
       "239208  ARTÃCULO 209. ACTOS SEXUALES CON MENOR DE 14 ...  \n",
       "\n",
       "[239209 rows x 9 columns]"
      ]
     },
     "execution_count": 117,
     "metadata": {},
     "output_type": "execute_result"
    }
   ],
   "source": [
    "delitos = pd.read_csv(\"./datos/Reporte__Delitos_sexuales_Polic_a_Nacional.csv\", encoding = \"latin-1\")\n",
    "delitos\n"
   ]
  },
  {
   "cell_type": "code",
   "execution_count": 118,
   "id": "8f10ac2c-d119-4ca9-b16d-6c91f3596da7",
   "metadata": {},
   "outputs": [
    {
     "data": {
      "text/plain": [
       "(239209, 9)"
      ]
     },
     "execution_count": 118,
     "metadata": {},
     "output_type": "execute_result"
    }
   ],
   "source": [
    "delitos.shape\n"
   ]
  },
  {
   "cell_type": "code",
   "execution_count": 119,
   "id": "8d52f45c-1d80-4a57-aef8-183756e8a340",
   "metadata": {},
   "outputs": [
    {
     "data": {
      "text/plain": [
       "DEPARTAMENTO    object\n",
       "MUNICIPIO       object\n",
       "CODIGO DANE      int64\n",
       "ARMAS MEDIOS    object\n",
       "FECHA HECHO     object\n",
       "GENERO          object\n",
       "GRUPO ETARIO    object\n",
       "CANTIDAD         int64\n",
       "delito          object\n",
       "dtype: object"
      ]
     },
     "execution_count": 119,
     "metadata": {},
     "output_type": "execute_result"
    }
   ],
   "source": [
    "delitos.dtypes\n"
   ]
  },
  {
   "cell_type": "code",
   "execution_count": 120,
   "id": "6612de3f-8940-4f8f-a196-566bb3258fa5",
   "metadata": {},
   "outputs": [
    {
     "data": {
      "text/html": [
       "<div>\n",
       "<style scoped>\n",
       "    .dataframe tbody tr th:only-of-type {\n",
       "        vertical-align: middle;\n",
       "    }\n",
       "\n",
       "    .dataframe tbody tr th {\n",
       "        vertical-align: top;\n",
       "    }\n",
       "\n",
       "    .dataframe thead th {\n",
       "        text-align: right;\n",
       "    }\n",
       "</style>\n",
       "<table border=\"1\" class=\"dataframe\">\n",
       "  <thead>\n",
       "    <tr style=\"text-align: right;\">\n",
       "      <th></th>\n",
       "      <th>DEPARTAMENTO</th>\n",
       "      <th>MUNICIPIO</th>\n",
       "      <th>CODIGO DANE</th>\n",
       "      <th>ARMAS MEDIOS</th>\n",
       "      <th>FECHA HECHO</th>\n",
       "      <th>GENERO</th>\n",
       "      <th>GRUPO ETARIO</th>\n",
       "      <th>CANTIDAD</th>\n",
       "      <th>delito</th>\n",
       "    </tr>\n",
       "  </thead>\n",
       "  <tbody>\n",
       "    <tr>\n",
       "      <th>0</th>\n",
       "      <td>ANTIOQUIA</td>\n",
       "      <td>NECOCLÃ</td>\n",
       "      <td>5490000</td>\n",
       "      <td>NO REPORTADO</td>\n",
       "      <td>1/01/2010</td>\n",
       "      <td>FEMENINO</td>\n",
       "      <td>MENORES</td>\n",
       "      <td>1</td>\n",
       "      <td>ARTÃCULO 208. ACCESO CARNAL ABUSIVO CON MENOR...</td>\n",
       "    </tr>\n",
       "    <tr>\n",
       "      <th>1</th>\n",
       "      <td>ANTIOQUIA</td>\n",
       "      <td>TURBO</td>\n",
       "      <td>5837000</td>\n",
       "      <td>SIN EMPLEO DE ARMAS</td>\n",
       "      <td>1/01/2010</td>\n",
       "      <td>NO REPORTA</td>\n",
       "      <td>ADULTOS</td>\n",
       "      <td>1</td>\n",
       "      <td>ARTÃCULO 208. ACCESO CARNAL ABUSIVO CON MENOR...</td>\n",
       "    </tr>\n",
       "    <tr>\n",
       "      <th>2</th>\n",
       "      <td>ARAUCA</td>\n",
       "      <td>ARAUCA (CT)</td>\n",
       "      <td>81001000</td>\n",
       "      <td>NO REPORTADO</td>\n",
       "      <td>1/01/2010</td>\n",
       "      <td>FEMENINO</td>\n",
       "      <td>MENORES</td>\n",
       "      <td>1</td>\n",
       "      <td>ARTÃCULO 210 A. ACOSO SEXUAL</td>\n",
       "    </tr>\n",
       "    <tr>\n",
       "      <th>3</th>\n",
       "      <td>ARAUCA</td>\n",
       "      <td>ARAUCA (CT)</td>\n",
       "      <td>81001000</td>\n",
       "      <td>NO REPORTADO</td>\n",
       "      <td>1/01/2010</td>\n",
       "      <td>FEMENINO</td>\n",
       "      <td>ADOLECENTES</td>\n",
       "      <td>1</td>\n",
       "      <td>ARTÃCULO 210 A. ACOSO SEXUAL</td>\n",
       "    </tr>\n",
       "    <tr>\n",
       "      <th>4</th>\n",
       "      <td>ATLÃNTICO</td>\n",
       "      <td>SOLEDAD</td>\n",
       "      <td>8758000</td>\n",
       "      <td>NO REPORTA</td>\n",
       "      <td>1/01/2010</td>\n",
       "      <td>FEMENINO</td>\n",
       "      <td>MENORES</td>\n",
       "      <td>1</td>\n",
       "      <td>ARTÃCULO 209. ACTOS SEXUALES CON MENOR DE 14 ...</td>\n",
       "    </tr>\n",
       "    <tr>\n",
       "      <th>5</th>\n",
       "      <td>ATLÃNTICO</td>\n",
       "      <td>SOLEDAD</td>\n",
       "      <td>8758000</td>\n",
       "      <td>NO REPORTA</td>\n",
       "      <td>1/01/2010</td>\n",
       "      <td>FEMENINO</td>\n",
       "      <td>ADOLECENTES</td>\n",
       "      <td>1</td>\n",
       "      <td>ARTÃCULO 211. ACCESO CARNAL O ACTO SEXUAL ABU...</td>\n",
       "    </tr>\n",
       "    <tr>\n",
       "      <th>6</th>\n",
       "      <td>ATLÃNTICO</td>\n",
       "      <td>BARRANQUILLA (CT)</td>\n",
       "      <td>8001000</td>\n",
       "      <td>NO REPORTADO</td>\n",
       "      <td>1/01/2010</td>\n",
       "      <td>MASCULINO</td>\n",
       "      <td>MENORES</td>\n",
       "      <td>1</td>\n",
       "      <td>ARTÃCULO 208. ACCESO CARNAL ABUSIVO CON MENOR...</td>\n",
       "    </tr>\n",
       "    <tr>\n",
       "      <th>7</th>\n",
       "      <td>BOLÃVAR</td>\n",
       "      <td>CARTAGENA (CT)</td>\n",
       "      <td>13001000</td>\n",
       "      <td>NO REPORTADO</td>\n",
       "      <td>1/01/2010</td>\n",
       "      <td>FEMENINO</td>\n",
       "      <td>MENORES</td>\n",
       "      <td>1</td>\n",
       "      <td>ARTÃCULO 209. ACTOS SEXUALES CON MENOR DE 14 ...</td>\n",
       "    </tr>\n",
       "    <tr>\n",
       "      <th>8</th>\n",
       "      <td>BOLÃVAR</td>\n",
       "      <td>PINILLOS</td>\n",
       "      <td>13549000</td>\n",
       "      <td>NO REPORTADO</td>\n",
       "      <td>1/01/2010</td>\n",
       "      <td>FEMENINO</td>\n",
       "      <td>MENORES</td>\n",
       "      <td>1</td>\n",
       "      <td>ARTÃCULO 208. ACCESO CARNAL ABUSIVO CON MENOR...</td>\n",
       "    </tr>\n",
       "    <tr>\n",
       "      <th>9</th>\n",
       "      <td>BOLÃVAR</td>\n",
       "      <td>CARTAGENA (CT)</td>\n",
       "      <td>13001000</td>\n",
       "      <td>CONTUNDENTES</td>\n",
       "      <td>1/01/2010</td>\n",
       "      <td>FEMENINO</td>\n",
       "      <td>ADOLECENTES</td>\n",
       "      <td>1</td>\n",
       "      <td>ARTÃCULO 205. ACCESO CARNAL VIOLENTO</td>\n",
       "    </tr>\n",
       "  </tbody>\n",
       "</table>\n",
       "</div>"
      ],
      "text/plain": [
       "  DEPARTAMENTO          MUNICIPIO  CODIGO DANE         ARMAS MEDIOS  \\\n",
       "0    ANTIOQUIA           NECOCLÃ      5490000         NO REPORTADO   \n",
       "1    ANTIOQUIA              TURBO      5837000  SIN EMPLEO DE ARMAS   \n",
       "2       ARAUCA        ARAUCA (CT)     81001000         NO REPORTADO   \n",
       "3       ARAUCA        ARAUCA (CT)     81001000         NO REPORTADO   \n",
       "4   ATLÃNTICO            SOLEDAD      8758000           NO REPORTA   \n",
       "5   ATLÃNTICO            SOLEDAD      8758000           NO REPORTA   \n",
       "6   ATLÃNTICO  BARRANQUILLA (CT)      8001000         NO REPORTADO   \n",
       "7     BOLÃVAR     CARTAGENA (CT)     13001000         NO REPORTADO   \n",
       "8     BOLÃVAR           PINILLOS     13549000         NO REPORTADO   \n",
       "9     BOLÃVAR     CARTAGENA (CT)     13001000         CONTUNDENTES   \n",
       "\n",
       "  FECHA HECHO      GENERO GRUPO ETARIO  CANTIDAD  \\\n",
       "0   1/01/2010    FEMENINO      MENORES         1   \n",
       "1   1/01/2010  NO REPORTA      ADULTOS         1   \n",
       "2   1/01/2010    FEMENINO      MENORES         1   \n",
       "3   1/01/2010    FEMENINO  ADOLECENTES         1   \n",
       "4   1/01/2010    FEMENINO      MENORES         1   \n",
       "5   1/01/2010    FEMENINO  ADOLECENTES         1   \n",
       "6   1/01/2010   MASCULINO      MENORES         1   \n",
       "7   1/01/2010    FEMENINO      MENORES         1   \n",
       "8   1/01/2010    FEMENINO      MENORES         1   \n",
       "9   1/01/2010    FEMENINO  ADOLECENTES         1   \n",
       "\n",
       "                                              delito  \n",
       "0  ARTÃCULO 208. ACCESO CARNAL ABUSIVO CON MENOR...  \n",
       "1  ARTÃCULO 208. ACCESO CARNAL ABUSIVO CON MENOR...  \n",
       "2                      ARTÃCULO 210 A. ACOSO SEXUAL  \n",
       "3                      ARTÃCULO 210 A. ACOSO SEXUAL  \n",
       "4  ARTÃCULO 209. ACTOS SEXUALES CON MENOR DE 14 ...  \n",
       "5  ARTÃCULO 211. ACCESO CARNAL O ACTO SEXUAL ABU...  \n",
       "6  ARTÃCULO 208. ACCESO CARNAL ABUSIVO CON MENOR...  \n",
       "7  ARTÃCULO 209. ACTOS SEXUALES CON MENOR DE 14 ...  \n",
       "8  ARTÃCULO 208. ACCESO CARNAL ABUSIVO CON MENOR...  \n",
       "9              ARTÃCULO 205. ACCESO CARNAL VIOLENTO  "
      ]
     },
     "execution_count": 120,
     "metadata": {},
     "output_type": "execute_result"
    }
   ],
   "source": [
    "delitos.head(10)\n"
   ]
  },
  {
   "cell_type": "code",
   "execution_count": null,
   "id": "182153e8-9b23-4bf3-8bc1-980ab25aefac",
   "metadata": {},
   "outputs": [],
   "source": []
  },
  {
   "cell_type": "code",
   "execution_count": 121,
   "id": "882c5052-6e95-41f5-8bcd-cad88f111192",
   "metadata": {},
   "outputs": [
    {
     "data": {
      "text/plain": [
       "0          ANTIOQUIA\n",
       "1          ANTIOQUIA\n",
       "2             ARAUCA\n",
       "3             ARAUCA\n",
       "4         ATLÃNTICO\n",
       "             ...    \n",
       "239204          META\n",
       "239205     RISARALDA\n",
       "239206        TOLIMA\n",
       "239207        TOLIMA\n",
       "239208         VALLE\n",
       "Name: DEPARTAMENTO, Length: 239209, dtype: object"
      ]
     },
     "execution_count": 121,
     "metadata": {},
     "output_type": "execute_result"
    }
   ],
   "source": [
    "delitos[\"DEPARTAMENTO\"]\n"
   ]
  },
  {
   "cell_type": "code",
   "execution_count": 122,
   "id": "2c7e4c37-0650-419c-acf6-8688cb981019",
   "metadata": {},
   "outputs": [],
   "source": [
    "##Analisis cuantitativo \n"
   ]
  },
  {
   "cell_type": "code",
   "execution_count": null,
   "id": "96d6d5d5-575b-4363-a002-94f4a1fa67d2",
   "metadata": {},
   "outputs": [],
   "source": [
    "\n"
   ]
  },
  {
   "cell_type": "code",
   "execution_count": null,
   "id": "7ccf1c1f-f0bd-42d9-a896-aeb69785c8b6",
   "metadata": {},
   "outputs": [],
   "source": [
    "\n",
    "\n"
   ]
  },
  {
   "cell_type": "code",
   "execution_count": 123,
   "id": "d5dd6401-6696-4fe1-bd73-93eeae35823a",
   "metadata": {},
   "outputs": [
    {
     "data": {
      "text/html": [
       "<div>\n",
       "<style scoped>\n",
       "    .dataframe tbody tr th:only-of-type {\n",
       "        vertical-align: middle;\n",
       "    }\n",
       "\n",
       "    .dataframe tbody tr th {\n",
       "        vertical-align: top;\n",
       "    }\n",
       "\n",
       "    .dataframe thead th {\n",
       "        text-align: right;\n",
       "    }\n",
       "</style>\n",
       "<table border=\"1\" class=\"dataframe\">\n",
       "  <thead>\n",
       "    <tr style=\"text-align: right;\">\n",
       "      <th></th>\n",
       "      <th>DEPARTAMENTO</th>\n",
       "      <th>MUNICIPIO</th>\n",
       "      <th>CODIGO DANE</th>\n",
       "      <th>ARMAS MEDIOS</th>\n",
       "      <th>FECHA HECHO</th>\n",
       "      <th>GENERO</th>\n",
       "      <th>GRUPO ETARIO</th>\n",
       "      <th>CANTIDAD</th>\n",
       "      <th>delito</th>\n",
       "    </tr>\n",
       "  </thead>\n",
       "  <tbody>\n",
       "    <tr>\n",
       "      <th>0</th>\n",
       "      <td>ANTIOQUIA</td>\n",
       "      <td>NECOCLÃ</td>\n",
       "      <td>5490000</td>\n",
       "      <td>NO REPORTADO</td>\n",
       "      <td>1/01/2010</td>\n",
       "      <td>FEMENINO</td>\n",
       "      <td>MENORES</td>\n",
       "      <td>1</td>\n",
       "      <td>ARTÃCULO 208. ACCESO CARNAL ABUSIVO CON MENOR...</td>\n",
       "    </tr>\n",
       "    <tr>\n",
       "      <th>1</th>\n",
       "      <td>ANTIOQUIA</td>\n",
       "      <td>TURBO</td>\n",
       "      <td>5837000</td>\n",
       "      <td>SIN EMPLEO DE ARMAS</td>\n",
       "      <td>1/01/2010</td>\n",
       "      <td>NO REPORTA</td>\n",
       "      <td>ADULTOS</td>\n",
       "      <td>1</td>\n",
       "      <td>ARTÃCULO 208. ACCESO CARNAL ABUSIVO CON MENOR...</td>\n",
       "    </tr>\n",
       "    <tr>\n",
       "      <th>2</th>\n",
       "      <td>ARAUCA</td>\n",
       "      <td>ARAUCA (CT)</td>\n",
       "      <td>81001000</td>\n",
       "      <td>NO REPORTADO</td>\n",
       "      <td>1/01/2010</td>\n",
       "      <td>FEMENINO</td>\n",
       "      <td>MENORES</td>\n",
       "      <td>1</td>\n",
       "      <td>ARTÃCULO 210 A. ACOSO SEXUAL</td>\n",
       "    </tr>\n",
       "    <tr>\n",
       "      <th>3</th>\n",
       "      <td>ARAUCA</td>\n",
       "      <td>ARAUCA (CT)</td>\n",
       "      <td>81001000</td>\n",
       "      <td>NO REPORTADO</td>\n",
       "      <td>1/01/2010</td>\n",
       "      <td>FEMENINO</td>\n",
       "      <td>ADOLECENTES</td>\n",
       "      <td>1</td>\n",
       "      <td>ARTÃCULO 210 A. ACOSO SEXUAL</td>\n",
       "    </tr>\n",
       "    <tr>\n",
       "      <th>4</th>\n",
       "      <td>ATLÃNTICO</td>\n",
       "      <td>SOLEDAD</td>\n",
       "      <td>8758000</td>\n",
       "      <td>NO REPORTA</td>\n",
       "      <td>1/01/2010</td>\n",
       "      <td>FEMENINO</td>\n",
       "      <td>MENORES</td>\n",
       "      <td>1</td>\n",
       "      <td>ARTÃCULO 209. ACTOS SEXUALES CON MENOR DE 14 ...</td>\n",
       "    </tr>\n",
       "    <tr>\n",
       "      <th>...</th>\n",
       "      <td>...</td>\n",
       "      <td>...</td>\n",
       "      <td>...</td>\n",
       "      <td>...</td>\n",
       "      <td>...</td>\n",
       "      <td>...</td>\n",
       "      <td>...</td>\n",
       "      <td>...</td>\n",
       "      <td>...</td>\n",
       "    </tr>\n",
       "    <tr>\n",
       "      <th>239204</th>\n",
       "      <td>META</td>\n",
       "      <td>GRANADA</td>\n",
       "      <td>50313000</td>\n",
       "      <td>CONTUNDENTES</td>\n",
       "      <td>31/07/2021</td>\n",
       "      <td>MASCULINO</td>\n",
       "      <td>ADOLECENTES</td>\n",
       "      <td>1</td>\n",
       "      <td>ARTÃCULO 205. ACCESO CARNAL VIOLENTO</td>\n",
       "    </tr>\n",
       "    <tr>\n",
       "      <th>239205</th>\n",
       "      <td>RISARALDA</td>\n",
       "      <td>PEREIRA (CT)</td>\n",
       "      <td>66001000</td>\n",
       "      <td>SIN EMPLEO DE ARMAS</td>\n",
       "      <td>31/07/2021</td>\n",
       "      <td>FEMENINO</td>\n",
       "      <td>NO REPORTA</td>\n",
       "      <td>1</td>\n",
       "      <td>ARTÃCULO 206. ACTO SEXUAL VIOLENTO</td>\n",
       "    </tr>\n",
       "    <tr>\n",
       "      <th>239206</th>\n",
       "      <td>TOLIMA</td>\n",
       "      <td>IBAGUÃ (CT)</td>\n",
       "      <td>73001000</td>\n",
       "      <td>SIN EMPLEO DE ARMAS</td>\n",
       "      <td>31/07/2021</td>\n",
       "      <td>FEMENINO</td>\n",
       "      <td>ADULTOS</td>\n",
       "      <td>1</td>\n",
       "      <td>ARTÃCULO 206. ACTO SEXUAL VIOLENTO</td>\n",
       "    </tr>\n",
       "    <tr>\n",
       "      <th>239207</th>\n",
       "      <td>TOLIMA</td>\n",
       "      <td>SAN ANTONIO</td>\n",
       "      <td>73675000</td>\n",
       "      <td>SIN EMPLEO DE ARMAS</td>\n",
       "      <td>31/07/2021</td>\n",
       "      <td>FEMENINO</td>\n",
       "      <td>ADULTOS</td>\n",
       "      <td>1</td>\n",
       "      <td>ARTÃCULO 205. ACCESO CARNAL VIOLENTO</td>\n",
       "    </tr>\n",
       "    <tr>\n",
       "      <th>239208</th>\n",
       "      <td>VALLE</td>\n",
       "      <td>CALI (CT)</td>\n",
       "      <td>76001000</td>\n",
       "      <td>SIN EMPLEO DE ARMAS</td>\n",
       "      <td>31/07/2021</td>\n",
       "      <td>FEMENINO</td>\n",
       "      <td>ADOLECENTES</td>\n",
       "      <td>1</td>\n",
       "      <td>ARTÃCULO 209. ACTOS SEXUALES CON MENOR DE 14 ...</td>\n",
       "    </tr>\n",
       "  </tbody>\n",
       "</table>\n",
       "<p>223647 rows × 9 columns</p>\n",
       "</div>"
      ],
      "text/plain": [
       "       DEPARTAMENTO     MUNICIPIO  CODIGO DANE         ARMAS MEDIOS  \\\n",
       "0         ANTIOQUIA      NECOCLÃ      5490000         NO REPORTADO   \n",
       "1         ANTIOQUIA         TURBO      5837000  SIN EMPLEO DE ARMAS   \n",
       "2            ARAUCA   ARAUCA (CT)     81001000         NO REPORTADO   \n",
       "3            ARAUCA   ARAUCA (CT)     81001000         NO REPORTADO   \n",
       "4        ATLÃNTICO       SOLEDAD      8758000           NO REPORTA   \n",
       "...             ...           ...          ...                  ...   \n",
       "239204         META       GRANADA     50313000         CONTUNDENTES   \n",
       "239205    RISARALDA  PEREIRA (CT)     66001000  SIN EMPLEO DE ARMAS   \n",
       "239206       TOLIMA  IBAGUÃ (CT)     73001000  SIN EMPLEO DE ARMAS   \n",
       "239207       TOLIMA   SAN ANTONIO     73675000  SIN EMPLEO DE ARMAS   \n",
       "239208        VALLE     CALI (CT)     76001000  SIN EMPLEO DE ARMAS   \n",
       "\n",
       "       FECHA HECHO      GENERO GRUPO ETARIO  CANTIDAD  \\\n",
       "0        1/01/2010    FEMENINO      MENORES         1   \n",
       "1        1/01/2010  NO REPORTA      ADULTOS         1   \n",
       "2        1/01/2010    FEMENINO      MENORES         1   \n",
       "3        1/01/2010    FEMENINO  ADOLECENTES         1   \n",
       "4        1/01/2010    FEMENINO      MENORES         1   \n",
       "...            ...         ...          ...       ...   \n",
       "239204  31/07/2021   MASCULINO  ADOLECENTES         1   \n",
       "239205  31/07/2021    FEMENINO   NO REPORTA         1   \n",
       "239206  31/07/2021    FEMENINO      ADULTOS         1   \n",
       "239207  31/07/2021    FEMENINO      ADULTOS         1   \n",
       "239208  31/07/2021    FEMENINO  ADOLECENTES         1   \n",
       "\n",
       "                                                   delito  \n",
       "0       ARTÃCULO 208. ACCESO CARNAL ABUSIVO CON MENOR...  \n",
       "1       ARTÃCULO 208. ACCESO CARNAL ABUSIVO CON MENOR...  \n",
       "2                           ARTÃCULO 210 A. ACOSO SEXUAL  \n",
       "3                           ARTÃCULO 210 A. ACOSO SEXUAL  \n",
       "4       ARTÃCULO 209. ACTOS SEXUALES CON MENOR DE 14 ...  \n",
       "...                                                   ...  \n",
       "239204              ARTÃCULO 205. ACCESO CARNAL VIOLENTO  \n",
       "239205                ARTÃCULO 206. ACTO SEXUAL VIOLENTO  \n",
       "239206                ARTÃCULO 206. ACTO SEXUAL VIOLENTO  \n",
       "239207              ARTÃCULO 205. ACCESO CARNAL VIOLENTO  \n",
       "239208  ARTÃCULO 209. ACTOS SEXUALES CON MENOR DE 14 ...  \n",
       "\n",
       "[223647 rows x 9 columns]"
      ]
     },
     "execution_count": 123,
     "metadata": {},
     "output_type": "execute_result"
    }
   ],
   "source": [
    "delitos.drop_duplicates()\n",
    "## Como recomendacion para mejorar la calidad de los datos se eliminaron los datos repetidos \n"
   ]
  },
  {
   "cell_type": "code",
   "execution_count": 124,
   "id": "831956d2-bc30-409c-8f22-044abb3defd0",
   "metadata": {},
   "outputs": [
    {
     "data": {
      "text/plain": [
       "0          1/01/2010\n",
       "1          1/01/2010\n",
       "2          1/01/2010\n",
       "3          1/01/2010\n",
       "4          1/01/2010\n",
       "             ...    \n",
       "239204    31/07/2021\n",
       "239205    31/07/2021\n",
       "239206    31/07/2021\n",
       "239207    31/07/2021\n",
       "239208    31/07/2021\n",
       "Name: FECHA HECHO, Length: 239209, dtype: object"
      ]
     },
     "execution_count": 124,
     "metadata": {},
     "output_type": "execute_result"
    }
   ],
   "source": [
    "delitos['FECHA HECHO']"
   ]
  },
  {
   "cell_type": "code",
   "execution_count": 125,
   "id": "dc12c7a5-ad2e-46d3-934f-bc7e453901ee",
   "metadata": {},
   "outputs": [],
   "source": [
    "delitos['FECHA HECHO'] = pd.to_datetime(delitos['FECHA HECHO'])\n",
    "## Como recomendacion para mejorar la calidad de los datos se cambio el formato de la fecha a datetime"
   ]
  },
  {
   "cell_type": "code",
   "execution_count": 126,
   "id": "6310f9ea-360a-443d-b213-0d12d85db680",
   "metadata": {},
   "outputs": [
    {
     "data": {
      "text/plain": [
       "0        2010-01-01\n",
       "1        2010-01-01\n",
       "2        2010-01-01\n",
       "3        2010-01-01\n",
       "4        2010-01-01\n",
       "            ...    \n",
       "239204   2021-07-31\n",
       "239205   2021-07-31\n",
       "239206   2021-07-31\n",
       "239207   2021-07-31\n",
       "239208   2021-07-31\n",
       "Name: FECHA HECHO, Length: 239209, dtype: datetime64[ns]"
      ]
     },
     "execution_count": 126,
     "metadata": {},
     "output_type": "execute_result"
    }
   ],
   "source": [
    "delitos['FECHA HECHO']"
   ]
  },
  {
   "cell_type": "code",
   "execution_count": 127,
   "id": "a781df76-9238-4b27-ab3f-b0874c8d566b",
   "metadata": {},
   "outputs": [
    {
     "data": {
      "text/plain": [
       "count    239209.000000\n",
       "mean          1.034183\n",
       "std           0.291367\n",
       "min           1.000000\n",
       "25%           1.000000\n",
       "50%           1.000000\n",
       "75%           1.000000\n",
       "max          86.000000\n",
       "Name: CANTIDAD, dtype: float64"
      ]
     },
     "execution_count": 127,
     "metadata": {},
     "output_type": "execute_result"
    }
   ],
   "source": [
    "delitos['CANTIDAD'].describe()"
   ]
  },
  {
   "cell_type": "code",
   "execution_count": 128,
   "id": "28ce6837-64c4-45cb-a010-d496830e628b",
   "metadata": {},
   "outputs": [
    {
     "data": {
      "text/html": [
       "<div>\n",
       "<style scoped>\n",
       "    .dataframe tbody tr th:only-of-type {\n",
       "        vertical-align: middle;\n",
       "    }\n",
       "\n",
       "    .dataframe tbody tr th {\n",
       "        vertical-align: top;\n",
       "    }\n",
       "\n",
       "    .dataframe thead th {\n",
       "        text-align: right;\n",
       "    }\n",
       "</style>\n",
       "<table border=\"1\" class=\"dataframe\">\n",
       "  <thead>\n",
       "    <tr style=\"text-align: right;\">\n",
       "      <th></th>\n",
       "      <th>DEPARTAMENTO</th>\n",
       "    </tr>\n",
       "  </thead>\n",
       "  <tbody>\n",
       "    <tr>\n",
       "      <th>CUNDINAMARCA</th>\n",
       "      <td>43316</td>\n",
       "    </tr>\n",
       "    <tr>\n",
       "      <th>ANTIOQUIA</th>\n",
       "      <td>27517</td>\n",
       "    </tr>\n",
       "    <tr>\n",
       "      <th>VALLE</th>\n",
       "      <td>25111</td>\n",
       "    </tr>\n",
       "  </tbody>\n",
       "</table>\n",
       "</div>"
      ],
      "text/plain": [
       "              DEPARTAMENTO\n",
       "CUNDINAMARCA         43316\n",
       "ANTIOQUIA            27517\n",
       "VALLE                25111"
      ]
     },
     "execution_count": 128,
     "metadata": {},
     "output_type": "execute_result"
    }
   ],
   "source": [
    "## 1 Parte 1 - Top 3 departamentos que evidencias casos de abuso sexual a nivel historico \n",
    "departamento_f = delitos['DEPARTAMENTO'].value_counts().to_frame()\n",
    "departamento_f.head(3)\n",
    "## Como se puede evidenciar que el TOP 3 de departamentos mayor mente afectados historicamente son cundinamarca, antioquia y valle. "
   ]
  },
  {
   "cell_type": "code",
   "execution_count": 129,
   "id": "1b646e4e-c385-44a0-8876-f37f6e60cdbe",
   "metadata": {},
   "outputs": [],
   "source": [
    "## 1 Parte 2 - Top 3 departamentos que evidencias casos de abuso sexual en el ultimo año\n"
   ]
  },
  {
   "cell_type": "code",
   "execution_count": 130,
   "id": "9cfacad5-b00b-4844-ab36-0618526832cf",
   "metadata": {},
   "outputs": [],
   "source": [
    "filtered_d= delitos[delitos['FECHA HECHO'].isin(pd.date_range('2020-01-01', '2020-12-30'))]"
   ]
  },
  {
   "cell_type": "code",
   "execution_count": 131,
   "id": "59dd7d4e-7071-431a-bfd5-fd367d6d69a6",
   "metadata": {},
   "outputs": [],
   "source": [
    "frecuencia = filtered_d['DEPARTAMENTO'].value_counts().to_frame()"
   ]
  },
  {
   "cell_type": "code",
   "execution_count": 132,
   "id": "2c2b9652-369b-415e-9aa3-0cb76bb650a9",
   "metadata": {},
   "outputs": [
    {
     "data": {
      "text/html": [
       "<div>\n",
       "<style scoped>\n",
       "    .dataframe tbody tr th:only-of-type {\n",
       "        vertical-align: middle;\n",
       "    }\n",
       "\n",
       "    .dataframe tbody tr th {\n",
       "        vertical-align: top;\n",
       "    }\n",
       "\n",
       "    .dataframe thead th {\n",
       "        text-align: right;\n",
       "    }\n",
       "</style>\n",
       "<table border=\"1\" class=\"dataframe\">\n",
       "  <thead>\n",
       "    <tr style=\"text-align: right;\">\n",
       "      <th></th>\n",
       "      <th>DEPARTAMENTO</th>\n",
       "    </tr>\n",
       "  </thead>\n",
       "  <tbody>\n",
       "    <tr>\n",
       "      <th>CUNDINAMARCA</th>\n",
       "      <td>6459</td>\n",
       "    </tr>\n",
       "    <tr>\n",
       "      <th>ANTIOQUIA</th>\n",
       "      <td>4395</td>\n",
       "    </tr>\n",
       "    <tr>\n",
       "      <th>VALLE</th>\n",
       "      <td>2576</td>\n",
       "    </tr>\n",
       "  </tbody>\n",
       "</table>\n",
       "</div>"
      ],
      "text/plain": [
       "              DEPARTAMENTO\n",
       "CUNDINAMARCA          6459\n",
       "ANTIOQUIA             4395\n",
       "VALLE                 2576"
      ]
     },
     "execution_count": 132,
     "metadata": {},
     "output_type": "execute_result"
    }
   ],
   "source": [
    "frecuencia.head(3)\n",
    "## Como se puede evidenciar que el TOP 3 de departamentos mayor mente afectados en el ultimo año (2020). siguen siendo cundinamarca, antioquia y valle. "
   ]
  },
  {
   "cell_type": "code",
   "execution_count": 133,
   "id": "d1d4d782-813f-4b6f-beaa-9f343f91a365",
   "metadata": {},
   "outputs": [],
   "source": [
    "##2 Arma mas frecuente"
   ]
  },
  {
   "cell_type": "code",
   "execution_count": 134,
   "id": "0324a11e-9e36-4c3f-965c-df80caf67ee5",
   "metadata": {},
   "outputs": [
    {
     "data": {
      "text/html": [
       "<div>\n",
       "<style scoped>\n",
       "    .dataframe tbody tr th:only-of-type {\n",
       "        vertical-align: middle;\n",
       "    }\n",
       "\n",
       "    .dataframe tbody tr th {\n",
       "        vertical-align: top;\n",
       "    }\n",
       "\n",
       "    .dataframe thead th {\n",
       "        text-align: right;\n",
       "    }\n",
       "</style>\n",
       "<table border=\"1\" class=\"dataframe\">\n",
       "  <thead>\n",
       "    <tr style=\"text-align: right;\">\n",
       "      <th></th>\n",
       "      <th>ARMAS MEDIOS</th>\n",
       "    </tr>\n",
       "  </thead>\n",
       "  <tbody>\n",
       "    <tr>\n",
       "      <th>SIN EMPLEO DE ARMAS</th>\n",
       "      <td>109403</td>\n",
       "    </tr>\n",
       "    <tr>\n",
       "      <th>NO REPORTADO</th>\n",
       "      <td>56321</td>\n",
       "    </tr>\n",
       "    <tr>\n",
       "      <th>CONTUNDENTES</th>\n",
       "      <td>42087</td>\n",
       "    </tr>\n",
       "  </tbody>\n",
       "</table>\n",
       "</div>"
      ],
      "text/plain": [
       "                     ARMAS MEDIOS\n",
       "SIN EMPLEO DE ARMAS        109403\n",
       "NO REPORTADO                56321\n",
       "CONTUNDENTES                42087"
      ]
     },
     "execution_count": 134,
     "metadata": {},
     "output_type": "execute_result"
    }
   ],
   "source": [
    "arma_f = delitos['ARMAS MEDIOS'].value_counts().to_frame()\n",
    "arma_f.head(3)"
   ]
  },
  {
   "cell_type": "code",
   "execution_count": 135,
   "id": "13605316-d089-4dd3-a67e-7a47b7874b3e",
   "metadata": {},
   "outputs": [],
   "source": [
    "## Como se puede evidenciar en esta consulta es que la gran mayoria de casos no se hace uso de un arma para cometer el crimen, sin embargo el arma que mas \n",
    "## se evidencia en los casos que si se reporta son las armas contundentes. "
   ]
  },
  {
   "cell_type": "code",
   "execution_count": 136,
   "id": "7abf7e11-9fb2-4fb1-bb62-68b750ada7c3",
   "metadata": {},
   "outputs": [
    {
     "data": {
      "text/plain": [
       "<AxesSubplot:>"
      ]
     },
     "execution_count": 136,
     "metadata": {},
     "output_type": "execute_result"
    },
    {
     "data": {
      "image/png": "[encoded data removed]",
      "text/plain": [
       "<Figure size 432x288 with 1 Axes>"
      ]
     },
     "metadata": {
      "needs_background": "light"
     },
     "output_type": "display_data"
    }
   ],
   "source": [
    "grupo_f = delitos['GRUPO ETARIO'].value_counts().plot(kind = \"bar\")\n",
    "grupo_f\n"
   ]
  },
  {
   "cell_type": "code",
   "execution_count": 137,
   "id": "3b8ee920-1140-451d-9788-1ef1c2e79b42",
   "metadata": {},
   "outputs": [
    {
     "data": {
      "text/plain": [
       "<AxesSubplot:>"
      ]
     },
     "execution_count": 137,
     "metadata": {},
     "output_type": "execute_result"
    },
    {
     "data": {
      "image/png": "[encoded data removed]",
      "text/plain": [
       "<Figure size 432x288 with 1 Axes>"
      ]
     },
     "metadata": {
      "needs_background": "light"
     },
     "output_type": "display_data"
    }
   ],
   "source": [
    "genero_f = delitos['GENERO'].value_counts().plot(kind = \"bar\")\n",
    "genero_f"
   ]
  },
  {
   "cell_type": "code",
   "execution_count": 138,
   "id": "4e3c3c57-0ea8-445c-bcd7-1ebd738ee140",
   "metadata": {},
   "outputs": [
    {
     "data": {
      "text/plain": [
       "FEMENINO      85.515177\n",
       "MASCULINO     14.107747\n",
       "NO REPORTA     0.377076\n",
       "Name: GENERO, dtype: float64"
      ]
     },
     "execution_count": 138,
     "metadata": {},
     "output_type": "execute_result"
    }
   ],
   "source": [
    "## Se puede ver mediante los graficos representados que los casos femeninos representa la gran mayoria el (85%) de los casos \n",
    "## Por otro lado al igual que los casos femininos los casos en menores predominan \n",
    "genero_f = delitos['GENERO'].value_counts(normalize=True)*100\n",
    "genero_f"
   ]
  },
  {
   "cell_type": "code",
   "execution_count": 139,
   "id": "d7baa3a4-caa7-470d-a1dd-5aa485db7542",
   "metadata": {},
   "outputs": [
    {
     "data": {
      "text/html": [
       "<div>\n",
       "<style scoped>\n",
       "    .dataframe tbody tr th:only-of-type {\n",
       "        vertical-align: middle;\n",
       "    }\n",
       "\n",
       "    .dataframe tbody tr th {\n",
       "        vertical-align: top;\n",
       "    }\n",
       "\n",
       "    .dataframe thead th {\n",
       "        text-align: right;\n",
       "    }\n",
       "</style>\n",
       "<table border=\"1\" class=\"dataframe\">\n",
       "  <thead>\n",
       "    <tr style=\"text-align: right;\">\n",
       "      <th></th>\n",
       "      <th>FECHA HECHO</th>\n",
       "    </tr>\n",
       "  </thead>\n",
       "  <tbody>\n",
       "    <tr>\n",
       "      <th>1</th>\n",
       "      <td>28421</td>\n",
       "    </tr>\n",
       "    <tr>\n",
       "      <th>5</th>\n",
       "      <td>21256</td>\n",
       "    </tr>\n",
       "    <tr>\n",
       "      <th>3</th>\n",
       "      <td>20272</td>\n",
       "    </tr>\n",
       "  </tbody>\n",
       "</table>\n",
       "</div>"
      ],
      "text/plain": [
       "   FECHA HECHO\n",
       "1        28421\n",
       "5        21256\n",
       "3        20272"
      ]
     },
     "execution_count": 139,
     "metadata": {},
     "output_type": "execute_result"
    }
   ],
   "source": [
    "fechas_d=delitos['FECHA HECHO'].dt.month.value_counts().to_frame()\n",
    "fechas_d.head(3)\n",
    "##4 Se puede evidenciar que la tendencia para cometer este delito es en el mes de enero (1)"
   ]
  },
  {
   "cell_type": "code",
   "execution_count": 140,
   "id": "fc896019-2f0b-499d-a3d1-0492ce084ca0",
   "metadata": {},
   "outputs": [
    {
     "data": {
      "text/html": [
       "<div>\n",
       "<style scoped>\n",
       "    .dataframe tbody tr th:only-of-type {\n",
       "        vertical-align: middle;\n",
       "    }\n",
       "\n",
       "    .dataframe tbody tr th {\n",
       "        vertical-align: top;\n",
       "    }\n",
       "\n",
       "    .dataframe thead th {\n",
       "        text-align: right;\n",
       "    }\n",
       "</style>\n",
       "<table border=\"1\" class=\"dataframe\">\n",
       "  <thead>\n",
       "    <tr style=\"text-align: right;\">\n",
       "      <th></th>\n",
       "      <th>delito</th>\n",
       "    </tr>\n",
       "  </thead>\n",
       "  <tbody>\n",
       "    <tr>\n",
       "      <th>ARTÃCULO 209. ACTOS SEXUALES CON MENOR DE 14 AÃOS</th>\n",
       "      <td>81340</td>\n",
       "    </tr>\n",
       "    <tr>\n",
       "      <th>ARTÃCULO 208. ACCESO CARNAL ABUSIVO CON MENOR DE 14 AÃOS</th>\n",
       "      <td>54224</td>\n",
       "    </tr>\n",
       "    <tr>\n",
       "      <th>ARTÃCULO 205. ACCESO CARNAL VIOLENTO</th>\n",
       "      <td>36702</td>\n",
       "    </tr>\n",
       "  </tbody>\n",
       "</table>\n",
       "</div>"
      ],
      "text/plain": [
       "                                                    delito\n",
       "ARTÃCULO 209. ACTOS SEXUALES CON MENOR DE 14 A...   81340\n",
       "ARTÃCULO 208. ACCESO CARNAL ABUSIVO CON MENOR ...   54224\n",
       "ARTÃCULO 205. ACCESO CARNAL VIOLENTO                36702"
      ]
     },
     "execution_count": 140,
     "metadata": {},
     "output_type": "execute_result"
    }
   ],
   "source": [
    "delito_f=delitos['delito'].value_counts().to_frame()\n",
    "delito_f.head(3)\n",
    "##5 Se puede evidenciar que delito mas frecuente es el reportado en el articulo 209. Actos sexuales con menor de 14 años"
   ]
  },
  {
   "cell_type": "code",
   "execution_count": null,
   "id": "5de5e408-6c0c-438c-b76f-82efdf599c4b",
   "metadata": {},
   "outputs": [],
   "source": []
  },
  {
   "cell_type": "code",
   "execution_count": null,
   "id": "cca21179-4a27-4de0-abcc-bab2ffe6c1ce",
   "metadata": {},
   "outputs": [],
   "source": [
    "##Lamentablenmente los dataSet Seleccionados no cuentan con variables cuantitativas para poder realizar un analisis mas profondo de los datos. "
   ]
  }
 ],
 "metadata": {
  "kernelspec": {
   "display_name": "Python 3",
   "language": "python",
   "name": "python3"
  },
  "language_info": {
   "codemirror_mode": {
    "name": "ipython",
    "version": 3
   },
   "file_extension": ".py",
   "mimetype": "text/x-python",
   "name": "python",
   "nbconvert_exporter": "python",
   "pygments_lexer": "ipython3",
   "version": "3.8.8"
  }
 },
 "nbformat": 4,
 "nbformat_minor": 5
}
