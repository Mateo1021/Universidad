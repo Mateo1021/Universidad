{
 "cells": [
  {
   "cell_type": "code",
   "execution_count": 2,
   "id": "8ee3c8dd-5fbe-4387-ac76-8902e96c1de3",
   "metadata": {},
   "outputs": [],
   "source": [
    "import pandas as pd\n",
    "import matplotlib.pyplot as plt\n",
    "import numpy as np\n",
    "\n",
    "# Graficar inline\n",
    "%matplotlib inline"
   ]
  },
  {
   "cell_type": "code",
   "execution_count": 3,
   "id": "c1f3646d-1870-472a-8643-c1af301ec041",
   "metadata": {},
   "outputs": [
    {
     "data": {
      "text/html": [
       "<div>\n",
       "<style scoped>\n",
       "    .dataframe tbody tr th:only-of-type {\n",
       "        vertical-align: middle;\n",
       "    }\n",
       "\n",
       "    .dataframe tbody tr th {\n",
       "        vertical-align: top;\n",
       "    }\n",
       "\n",
       "    .dataframe thead th {\n",
       "        text-align: right;\n",
       "    }\n",
       "</style>\n",
       "<table border=\"1\" class=\"dataframe\">\n",
       "  <thead>\n",
       "    <tr style=\"text-align: right;\">\n",
       "      <th></th>\n",
       "      <th>DEPARTAMENTO</th>\n",
       "      <th>MUNICIPIO</th>\n",
       "      <th>CODIGO DANE</th>\n",
       "      <th>ARMAS MEDIOS</th>\n",
       "      <th>FECHA HECHO</th>\n",
       "      <th>GENERO</th>\n",
       "      <th>GRUPO ETARÃO</th>\n",
       "      <th>DESCRIPCIÃN CONDUCTA</th>\n",
       "      <th>CANTIDAD</th>\n",
       "    </tr>\n",
       "  </thead>\n",
       "  <tbody>\n",
       "    <tr>\n",
       "      <th>0</th>\n",
       "      <td>ANTIOQUIA</td>\n",
       "      <td>COPACABANA</td>\n",
       "      <td>5212000</td>\n",
       "      <td>ARMA DE FUEGO</td>\n",
       "      <td>1/01/2010</td>\n",
       "      <td>MASCULINO</td>\n",
       "      <td>ADULTOS</td>\n",
       "      <td>HOMICIDIO</td>\n",
       "      <td>1</td>\n",
       "    </tr>\n",
       "    <tr>\n",
       "      <th>1</th>\n",
       "      <td>ANTIOQUIA</td>\n",
       "      <td>MEDELLÃN (CT)</td>\n",
       "      <td>5001000</td>\n",
       "      <td>ARMA DE FUEGO</td>\n",
       "      <td>1/01/2010</td>\n",
       "      <td>MASCULINO</td>\n",
       "      <td>ADULTOS</td>\n",
       "      <td>HOMICIDIO</td>\n",
       "      <td>2</td>\n",
       "    </tr>\n",
       "    <tr>\n",
       "      <th>2</th>\n",
       "      <td>ANTIOQUIA</td>\n",
       "      <td>MEDELLÃN (CT)</td>\n",
       "      <td>5001000</td>\n",
       "      <td>ARMA DE FUEGO</td>\n",
       "      <td>1/01/2010</td>\n",
       "      <td>MASCULINO</td>\n",
       "      <td>ADULTOS</td>\n",
       "      <td>HOMICIDIO</td>\n",
       "      <td>1</td>\n",
       "    </tr>\n",
       "    <tr>\n",
       "      <th>3</th>\n",
       "      <td>ANTIOQUIA</td>\n",
       "      <td>MEDELLÃN (CT)</td>\n",
       "      <td>5001000</td>\n",
       "      <td>ARMA DE FUEGO</td>\n",
       "      <td>1/01/2010</td>\n",
       "      <td>MASCULINO</td>\n",
       "      <td>ADULTOS</td>\n",
       "      <td>HOMICIDIO</td>\n",
       "      <td>1</td>\n",
       "    </tr>\n",
       "    <tr>\n",
       "      <th>4</th>\n",
       "      <td>ANTIOQUIA</td>\n",
       "      <td>MEDELLÃN (CT)</td>\n",
       "      <td>5001000</td>\n",
       "      <td>ARMA DE FUEGO</td>\n",
       "      <td>1/01/2010</td>\n",
       "      <td>MASCULINO</td>\n",
       "      <td>ADULTOS</td>\n",
       "      <td>HOMICIDIO</td>\n",
       "      <td>1</td>\n",
       "    </tr>\n",
       "    <tr>\n",
       "      <th>...</th>\n",
       "      <td>...</td>\n",
       "      <td>...</td>\n",
       "      <td>...</td>\n",
       "      <td>...</td>\n",
       "      <td>...</td>\n",
       "      <td>...</td>\n",
       "      <td>...</td>\n",
       "      <td>...</td>\n",
       "      <td>...</td>\n",
       "    </tr>\n",
       "    <tr>\n",
       "      <th>213858</th>\n",
       "      <td>VALLE</td>\n",
       "      <td>JAMUNDÃ</td>\n",
       "      <td>76364000</td>\n",
       "      <td>ARMA DE FUEGO</td>\n",
       "      <td>31/07/2021</td>\n",
       "      <td>MASCULINO</td>\n",
       "      <td>ADULTOS</td>\n",
       "      <td>HOMICIDIO</td>\n",
       "      <td>1</td>\n",
       "    </tr>\n",
       "    <tr>\n",
       "      <th>213859</th>\n",
       "      <td>VALLE</td>\n",
       "      <td>JAMUNDÃ</td>\n",
       "      <td>76364000</td>\n",
       "      <td>ARMA DE FUEGO</td>\n",
       "      <td>31/07/2021</td>\n",
       "      <td>MASCULINO</td>\n",
       "      <td>ADULTOS</td>\n",
       "      <td>HOMICIDIO</td>\n",
       "      <td>1</td>\n",
       "    </tr>\n",
       "    <tr>\n",
       "      <th>213860</th>\n",
       "      <td>VALLE</td>\n",
       "      <td>PALMIRA</td>\n",
       "      <td>76520000</td>\n",
       "      <td>ARMA DE FUEGO</td>\n",
       "      <td>31/07/2021</td>\n",
       "      <td>MASCULINO</td>\n",
       "      <td>ADULTOS</td>\n",
       "      <td>HOMICIDIO</td>\n",
       "      <td>1</td>\n",
       "    </tr>\n",
       "    <tr>\n",
       "      <th>213861</th>\n",
       "      <td>VALLE</td>\n",
       "      <td>GUADALAJARA DE BUGA</td>\n",
       "      <td>76111000</td>\n",
       "      <td>VEHICULO</td>\n",
       "      <td>31/07/2021</td>\n",
       "      <td>MASCULINO</td>\n",
       "      <td>ADULTOS</td>\n",
       "      <td>HOMICIDIO CULPOSO ( EN ACCIDENTE DE TRÃNSITO)</td>\n",
       "      <td>1</td>\n",
       "    </tr>\n",
       "    <tr>\n",
       "      <th>213862</th>\n",
       "      <td>VALLE</td>\n",
       "      <td>GUACARÃ</td>\n",
       "      <td>76318000</td>\n",
       "      <td>ARMA DE FUEGO</td>\n",
       "      <td>31/07/2021</td>\n",
       "      <td>FEMENINO</td>\n",
       "      <td>ADULTOS</td>\n",
       "      <td>HOMICIDIO</td>\n",
       "      <td>1</td>\n",
       "    </tr>\n",
       "  </tbody>\n",
       "</table>\n",
       "<p>213863 rows × 9 columns</p>\n",
       "</div>"
      ],
      "text/plain": [
       "       DEPARTAMENTO            MUNICIPIO  CODIGO DANE   ARMAS MEDIOS  \\\n",
       "0         ANTIOQUIA           COPACABANA      5212000  ARMA DE FUEGO   \n",
       "1         ANTIOQUIA       MEDELLÃN (CT)      5001000  ARMA DE FUEGO   \n",
       "2         ANTIOQUIA       MEDELLÃN (CT)      5001000  ARMA DE FUEGO   \n",
       "3         ANTIOQUIA       MEDELLÃN (CT)      5001000  ARMA DE FUEGO   \n",
       "4         ANTIOQUIA       MEDELLÃN (CT)      5001000  ARMA DE FUEGO   \n",
       "...             ...                  ...          ...            ...   \n",
       "213858        VALLE             JAMUNDÃ     76364000  ARMA DE FUEGO   \n",
       "213859        VALLE             JAMUNDÃ     76364000  ARMA DE FUEGO   \n",
       "213860        VALLE              PALMIRA     76520000  ARMA DE FUEGO   \n",
       "213861        VALLE  GUADALAJARA DE BUGA     76111000       VEHICULO   \n",
       "213862        VALLE             GUACARÃ     76318000  ARMA DE FUEGO   \n",
       "\n",
       "       FECHA HECHO     GENERO GRUPO ETARÃO  \\\n",
       "0        1/01/2010  MASCULINO       ADULTOS   \n",
       "1        1/01/2010  MASCULINO       ADULTOS   \n",
       "2        1/01/2010  MASCULINO       ADULTOS   \n",
       "3        1/01/2010  MASCULINO       ADULTOS   \n",
       "4        1/01/2010  MASCULINO       ADULTOS   \n",
       "...            ...        ...           ...   \n",
       "213858  31/07/2021  MASCULINO       ADULTOS   \n",
       "213859  31/07/2021  MASCULINO       ADULTOS   \n",
       "213860  31/07/2021  MASCULINO       ADULTOS   \n",
       "213861  31/07/2021  MASCULINO       ADULTOS   \n",
       "213862  31/07/2021   FEMENINO       ADULTOS   \n",
       "\n",
       "                                 DESCRIPCIÃN CONDUCTA  CANTIDAD  \n",
       "0                                            HOMICIDIO         1  \n",
       "1                                            HOMICIDIO         2  \n",
       "2                                            HOMICIDIO         1  \n",
       "3                                            HOMICIDIO         1  \n",
       "4                                            HOMICIDIO         1  \n",
       "...                                                ...       ...  \n",
       "213858                                       HOMICIDIO         1  \n",
       "213859                                       HOMICIDIO         1  \n",
       "213860                                       HOMICIDIO         1  \n",
       "213861  HOMICIDIO CULPOSO ( EN ACCIDENTE DE TRÃNSITO)         1  \n",
       "213862                                       HOMICIDIO         1  \n",
       "\n",
       "[213863 rows x 9 columns]"
      ]
     },
     "execution_count": 3,
     "metadata": {},
     "output_type": "execute_result"
    }
   ],
   "source": [
    "homicidio = pd.read_csv(\"./datos/Reporte_Homicidios_y_Homicidios_accidente_de_tr_nsito_Polic_a_Nacional.csv\", encoding = \"latin-1\")\n",
    "homicidio"
   ]
  },
  {
   "cell_type": "code",
   "execution_count": 7,
   "id": "8f10ac2c-d119-4ca9-b16d-6c91f3596da7",
   "metadata": {},
   "outputs": [
    {
     "data": {
      "text/plain": [
       "(2529, 9)"
      ]
     },
     "execution_count": 7,
     "metadata": {},
     "output_type": "execute_result"
    }
   ],
   "source": [
    "homicidio.shape\n"
   ]
  },
  {
   "cell_type": "code",
   "execution_count": 4,
   "id": "8d52f45c-1d80-4a57-aef8-183756e8a340",
   "metadata": {},
   "outputs": [
    {
     "data": {
      "text/plain": [
       "DEPARTAMENTO             object\n",
       "MUNICIPIO                object\n",
       "CODIGO DANE               int64\n",
       "ARMAS MEDIOS             object\n",
       "FECHA HECHO              object\n",
       "GENERO                   object\n",
       "GRUPO ETARÃO            object\n",
       "DESCRIPCIÃN CONDUCTA    object\n",
       "CANTIDAD                  int64\n",
       "dtype: object"
      ]
     },
     "execution_count": 4,
     "metadata": {},
     "output_type": "execute_result"
    }
   ],
   "source": [
    "homicidio.dtypes\n"
   ]
  },
  {
   "cell_type": "code",
   "execution_count": 6,
   "id": "6612de3f-8940-4f8f-a196-566bb3258fa5",
   "metadata": {},
   "outputs": [
    {
     "data": {
      "text/html": [
       "<div>\n",
       "<style scoped>\n",
       "    .dataframe tbody tr th:only-of-type {\n",
       "        vertical-align: middle;\n",
       "    }\n",
       "\n",
       "    .dataframe tbody tr th {\n",
       "        vertical-align: top;\n",
       "    }\n",
       "\n",
       "    .dataframe thead th {\n",
       "        text-align: right;\n",
       "    }\n",
       "</style>\n",
       "<table border=\"1\" class=\"dataframe\">\n",
       "  <thead>\n",
       "    <tr style=\"text-align: right;\">\n",
       "      <th></th>\n",
       "      <th>DEPARTAMENTO</th>\n",
       "      <th>MUNICIPIO</th>\n",
       "      <th>CODIGO DANE</th>\n",
       "      <th>ARMAS MEDIOS</th>\n",
       "      <th>FECHA HECHO</th>\n",
       "      <th>GENERO</th>\n",
       "      <th>GRUPO ETARÃO</th>\n",
       "      <th>DESCRIPCIÃN CONDUCTA</th>\n",
       "      <th>CANTIDAD</th>\n",
       "    </tr>\n",
       "  </thead>\n",
       "  <tbody>\n",
       "    <tr>\n",
       "      <th>0</th>\n",
       "      <td>ANTIOQUIA</td>\n",
       "      <td>COPACABANA</td>\n",
       "      <td>5212000</td>\n",
       "      <td>ARMA DE FUEGO</td>\n",
       "      <td>1/01/2010</td>\n",
       "      <td>MASCULINO</td>\n",
       "      <td>ADULTOS</td>\n",
       "      <td>HOMICIDIO</td>\n",
       "      <td>1</td>\n",
       "    </tr>\n",
       "    <tr>\n",
       "      <th>1</th>\n",
       "      <td>ANTIOQUIA</td>\n",
       "      <td>MEDELLÃN (CT)</td>\n",
       "      <td>5001000</td>\n",
       "      <td>ARMA DE FUEGO</td>\n",
       "      <td>1/01/2010</td>\n",
       "      <td>MASCULINO</td>\n",
       "      <td>ADULTOS</td>\n",
       "      <td>HOMICIDIO</td>\n",
       "      <td>2</td>\n",
       "    </tr>\n",
       "    <tr>\n",
       "      <th>2</th>\n",
       "      <td>ANTIOQUIA</td>\n",
       "      <td>MEDELLÃN (CT)</td>\n",
       "      <td>5001000</td>\n",
       "      <td>ARMA DE FUEGO</td>\n",
       "      <td>1/01/2010</td>\n",
       "      <td>MASCULINO</td>\n",
       "      <td>ADULTOS</td>\n",
       "      <td>HOMICIDIO</td>\n",
       "      <td>1</td>\n",
       "    </tr>\n",
       "    <tr>\n",
       "      <th>5</th>\n",
       "      <td>ANTIOQUIA</td>\n",
       "      <td>TURBO</td>\n",
       "      <td>5837000</td>\n",
       "      <td>VEHICULO</td>\n",
       "      <td>1/01/2010</td>\n",
       "      <td>MASCULINO</td>\n",
       "      <td>ADULTOS</td>\n",
       "      <td>HOMICIDIO CULPOSO ( EN ACCIDENTE DE TRÃNSITO)</td>\n",
       "      <td>1</td>\n",
       "    </tr>\n",
       "    <tr>\n",
       "      <th>6</th>\n",
       "      <td>ANTIOQUIA</td>\n",
       "      <td>AMAGÃ</td>\n",
       "      <td>5030000</td>\n",
       "      <td>ARMA BLANCA / CORTOPUNZANTE</td>\n",
       "      <td>1/01/2010</td>\n",
       "      <td>MASCULINO</td>\n",
       "      <td>ADULTOS</td>\n",
       "      <td>HOMICIDIO</td>\n",
       "      <td>1</td>\n",
       "    </tr>\n",
       "    <tr>\n",
       "      <th>...</th>\n",
       "      <td>...</td>\n",
       "      <td>...</td>\n",
       "      <td>...</td>\n",
       "      <td>...</td>\n",
       "      <td>...</td>\n",
       "      <td>...</td>\n",
       "      <td>...</td>\n",
       "      <td>...</td>\n",
       "      <td>...</td>\n",
       "    </tr>\n",
       "    <tr>\n",
       "      <th>213855</th>\n",
       "      <td>VALLE</td>\n",
       "      <td>GUACARÃ</td>\n",
       "      <td>76318000</td>\n",
       "      <td>ARMA DE FUEGO</td>\n",
       "      <td>31/07/2021</td>\n",
       "      <td>MASCULINO</td>\n",
       "      <td>ADULTOS</td>\n",
       "      <td>HOMICIDIO</td>\n",
       "      <td>1</td>\n",
       "    </tr>\n",
       "    <tr>\n",
       "      <th>213858</th>\n",
       "      <td>VALLE</td>\n",
       "      <td>JAMUNDÃ</td>\n",
       "      <td>76364000</td>\n",
       "      <td>ARMA DE FUEGO</td>\n",
       "      <td>31/07/2021</td>\n",
       "      <td>MASCULINO</td>\n",
       "      <td>ADULTOS</td>\n",
       "      <td>HOMICIDIO</td>\n",
       "      <td>1</td>\n",
       "    </tr>\n",
       "    <tr>\n",
       "      <th>213860</th>\n",
       "      <td>VALLE</td>\n",
       "      <td>PALMIRA</td>\n",
       "      <td>76520000</td>\n",
       "      <td>ARMA DE FUEGO</td>\n",
       "      <td>31/07/2021</td>\n",
       "      <td>MASCULINO</td>\n",
       "      <td>ADULTOS</td>\n",
       "      <td>HOMICIDIO</td>\n",
       "      <td>1</td>\n",
       "    </tr>\n",
       "    <tr>\n",
       "      <th>213861</th>\n",
       "      <td>VALLE</td>\n",
       "      <td>GUADALAJARA DE BUGA</td>\n",
       "      <td>76111000</td>\n",
       "      <td>VEHICULO</td>\n",
       "      <td>31/07/2021</td>\n",
       "      <td>MASCULINO</td>\n",
       "      <td>ADULTOS</td>\n",
       "      <td>HOMICIDIO CULPOSO ( EN ACCIDENTE DE TRÃNSITO)</td>\n",
       "      <td>1</td>\n",
       "    </tr>\n",
       "    <tr>\n",
       "      <th>213862</th>\n",
       "      <td>VALLE</td>\n",
       "      <td>GUACARÃ</td>\n",
       "      <td>76318000</td>\n",
       "      <td>ARMA DE FUEGO</td>\n",
       "      <td>31/07/2021</td>\n",
       "      <td>FEMENINO</td>\n",
       "      <td>ADULTOS</td>\n",
       "      <td>HOMICIDIO</td>\n",
       "      <td>1</td>\n",
       "    </tr>\n",
       "  </tbody>\n",
       "</table>\n",
       "<p>182560 rows × 9 columns</p>\n",
       "</div>"
      ],
      "text/plain": [
       "       DEPARTAMENTO            MUNICIPIO  CODIGO DANE  \\\n",
       "0         ANTIOQUIA           COPACABANA      5212000   \n",
       "1         ANTIOQUIA       MEDELLÃN (CT)      5001000   \n",
       "2         ANTIOQUIA       MEDELLÃN (CT)      5001000   \n",
       "5         ANTIOQUIA                TURBO      5837000   \n",
       "6         ANTIOQUIA               AMAGÃ      5030000   \n",
       "...             ...                  ...          ...   \n",
       "213855        VALLE             GUACARÃ     76318000   \n",
       "213858        VALLE             JAMUNDÃ     76364000   \n",
       "213860        VALLE              PALMIRA     76520000   \n",
       "213861        VALLE  GUADALAJARA DE BUGA     76111000   \n",
       "213862        VALLE             GUACARÃ     76318000   \n",
       "\n",
       "                       ARMAS MEDIOS FECHA HECHO     GENERO GRUPO ETARÃO  \\\n",
       "0                     ARMA DE FUEGO   1/01/2010  MASCULINO       ADULTOS   \n",
       "1                     ARMA DE FUEGO   1/01/2010  MASCULINO       ADULTOS   \n",
       "2                     ARMA DE FUEGO   1/01/2010  MASCULINO       ADULTOS   \n",
       "5                          VEHICULO   1/01/2010  MASCULINO       ADULTOS   \n",
       "6       ARMA BLANCA / CORTOPUNZANTE   1/01/2010  MASCULINO       ADULTOS   \n",
       "...                             ...         ...        ...           ...   \n",
       "213855                ARMA DE FUEGO  31/07/2021  MASCULINO       ADULTOS   \n",
       "213858                ARMA DE FUEGO  31/07/2021  MASCULINO       ADULTOS   \n",
       "213860                ARMA DE FUEGO  31/07/2021  MASCULINO       ADULTOS   \n",
       "213861                     VEHICULO  31/07/2021  MASCULINO       ADULTOS   \n",
       "213862                ARMA DE FUEGO  31/07/2021   FEMENINO       ADULTOS   \n",
       "\n",
       "                                 DESCRIPCIÃN CONDUCTA  CANTIDAD  \n",
       "0                                            HOMICIDIO         1  \n",
       "1                                            HOMICIDIO         2  \n",
       "2                                            HOMICIDIO         1  \n",
       "5       HOMICIDIO CULPOSO ( EN ACCIDENTE DE TRÃNSITO)         1  \n",
       "6                                            HOMICIDIO         1  \n",
       "...                                                ...       ...  \n",
       "213855                                       HOMICIDIO         1  \n",
       "213858                                       HOMICIDIO         1  \n",
       "213860                                       HOMICIDIO         1  \n",
       "213861  HOMICIDIO CULPOSO ( EN ACCIDENTE DE TRÃNSITO)         1  \n",
       "213862                                       HOMICIDIO         1  \n",
       "\n",
       "[182560 rows x 9 columns]"
      ]
     },
     "execution_count": 6,
     "metadata": {},
     "output_type": "execute_result"
    }
   ],
   "source": [
    "homicidio.drop_duplicates()\n",
    "## Como recomendacion para mejorar la calidad de los datos se eliminaron los datos repetidos"
   ]
  },
  {
   "cell_type": "code",
   "execution_count": 7,
   "id": "182153e8-9b23-4bf3-8bc1-980ab25aefac",
   "metadata": {},
   "outputs": [],
   "source": [
    "homicidio['FECHA HECHO'] = pd.to_datetime(homicidio['FECHA HECHO'])\n",
    "## Como recomendacion para mejorar la calidad de los datos se cambio el formato de la fecha a datetime"
   ]
  },
  {
   "cell_type": "code",
   "execution_count": 8,
   "id": "882c5052-6e95-41f5-8bcd-cad88f111192",
   "metadata": {},
   "outputs": [
    {
     "data": {
      "text/html": [
       "<div>\n",
       "<style scoped>\n",
       "    .dataframe tbody tr th:only-of-type {\n",
       "        vertical-align: middle;\n",
       "    }\n",
       "\n",
       "    .dataframe tbody tr th {\n",
       "        vertical-align: top;\n",
       "    }\n",
       "\n",
       "    .dataframe thead th {\n",
       "        text-align: right;\n",
       "    }\n",
       "</style>\n",
       "<table border=\"1\" class=\"dataframe\">\n",
       "  <thead>\n",
       "    <tr style=\"text-align: right;\">\n",
       "      <th></th>\n",
       "      <th>DEPARTAMENTO</th>\n",
       "    </tr>\n",
       "  </thead>\n",
       "  <tbody>\n",
       "    <tr>\n",
       "      <th>VALLE</th>\n",
       "      <td>38669</td>\n",
       "    </tr>\n",
       "    <tr>\n",
       "      <th>ANTIOQUIA</th>\n",
       "      <td>34126</td>\n",
       "    </tr>\n",
       "    <tr>\n",
       "      <th>CUNDINAMARCA</th>\n",
       "      <td>28539</td>\n",
       "    </tr>\n",
       "  </tbody>\n",
       "</table>\n",
       "</div>"
      ],
      "text/plain": [
       "              DEPARTAMENTO\n",
       "VALLE                38669\n",
       "ANTIOQUIA            34126\n",
       "CUNDINAMARCA         28539"
      ]
     },
     "execution_count": 8,
     "metadata": {},
     "output_type": "execute_result"
    }
   ],
   "source": [
    "\n",
    "## 1 Parte 1 - Top 3 departamentos que evidencias casos de secuestro a nivel historico \n",
    "departamento_f = homicidio['DEPARTAMENTO'].value_counts().to_frame()\n",
    "departamento_f.head(3)\n",
    "## Como se puede evidenciar que el TOP 3 de departamentos mayor mente afectados historicamente son valle, antioquia y cundinamarca"
   ]
  },
  {
   "cell_type": "code",
   "execution_count": 10,
   "id": "2c7e4c37-0650-419c-acf6-8688cb981019",
   "metadata": {},
   "outputs": [
    {
     "data": {
      "text/html": [
       "<div>\n",
       "<style scoped>\n",
       "    .dataframe tbody tr th:only-of-type {\n",
       "        vertical-align: middle;\n",
       "    }\n",
       "\n",
       "    .dataframe tbody tr th {\n",
       "        vertical-align: top;\n",
       "    }\n",
       "\n",
       "    .dataframe thead th {\n",
       "        text-align: right;\n",
       "    }\n",
       "</style>\n",
       "<table border=\"1\" class=\"dataframe\">\n",
       "  <thead>\n",
       "    <tr style=\"text-align: right;\">\n",
       "      <th></th>\n",
       "      <th>DEPARTAMENTO</th>\n",
       "    </tr>\n",
       "  </thead>\n",
       "  <tbody>\n",
       "    <tr>\n",
       "      <th>VALLE</th>\n",
       "      <td>2774</td>\n",
       "    </tr>\n",
       "    <tr>\n",
       "      <th>ANTIOQUIA</th>\n",
       "      <td>2626</td>\n",
       "    </tr>\n",
       "    <tr>\n",
       "      <th>CUNDINAMARCA</th>\n",
       "      <td>2044</td>\n",
       "    </tr>\n",
       "  </tbody>\n",
       "</table>\n",
       "</div>"
      ],
      "text/plain": [
       "              DEPARTAMENTO\n",
       "VALLE                 2774\n",
       "ANTIOQUIA             2626\n",
       "CUNDINAMARCA          2044"
      ]
     },
     "execution_count": 10,
     "metadata": {},
     "output_type": "execute_result"
    }
   ],
   "source": [
    "## 1 Parte 2 - Top 3 departamentos que evidencias casos de secuestro en el ultimo año\n",
    "filtered_d= homicidio[homicidio['FECHA HECHO'].isin(pd.date_range('2020-01-01', '2020-12-30'))]\n",
    "frecuencia = filtered_d['DEPARTAMENTO'].value_counts().to_frame()\n",
    "frecuencia.head(3)"
   ]
  },
  {
   "cell_type": "code",
   "execution_count": 16,
   "id": "d5dd6401-6696-4fe1-bd73-93eeae35823a",
   "metadata": {},
   "outputs": [],
   "source": [
    "## Como se puede evidenciar que el TOP 3 de departamentos mayor mente afectados en el ultimo año (2020). siguen siendo cundinamarca, antioquia y valle."
   ]
  },
  {
   "cell_type": "code",
   "execution_count": 11,
   "id": "831956d2-bc30-409c-8f22-044abb3defd0",
   "metadata": {},
   "outputs": [
    {
     "data": {
      "text/html": [
       "<div>\n",
       "<style scoped>\n",
       "    .dataframe tbody tr th:only-of-type {\n",
       "        vertical-align: middle;\n",
       "    }\n",
       "\n",
       "    .dataframe tbody tr th {\n",
       "        vertical-align: top;\n",
       "    }\n",
       "\n",
       "    .dataframe thead th {\n",
       "        text-align: right;\n",
       "    }\n",
       "</style>\n",
       "<table border=\"1\" class=\"dataframe\">\n",
       "  <thead>\n",
       "    <tr style=\"text-align: right;\">\n",
       "      <th></th>\n",
       "      <th>ARMAS MEDIOS</th>\n",
       "    </tr>\n",
       "  </thead>\n",
       "  <tbody>\n",
       "    <tr>\n",
       "      <th>ARMA DE FUEGO</th>\n",
       "      <td>115936</td>\n",
       "    </tr>\n",
       "    <tr>\n",
       "      <th>VEHICULO</th>\n",
       "      <td>36021</td>\n",
       "    </tr>\n",
       "    <tr>\n",
       "      <th>ARMA BLANCA / CORTOPUNZANTE</th>\n",
       "      <td>30544</td>\n",
       "    </tr>\n",
       "  </tbody>\n",
       "</table>\n",
       "</div>"
      ],
      "text/plain": [
       "                             ARMAS MEDIOS\n",
       "ARMA DE FUEGO                      115936\n",
       "VEHICULO                            36021\n",
       "ARMA BLANCA / CORTOPUNZANTE         30544"
      ]
     },
     "execution_count": 11,
     "metadata": {},
     "output_type": "execute_result"
    }
   ],
   "source": [
    "##2 Arma mas frecuente\n",
    "arma_f = homicidio['ARMAS MEDIOS'].value_counts().to_frame()\n",
    "arma_f.head(3)"
   ]
  },
  {
   "cell_type": "code",
   "execution_count": 12,
   "id": "dc12c7a5-ad2e-46d3-934f-bc7e453901ee",
   "metadata": {},
   "outputs": [
    {
     "data": {
      "text/plain": [
       "ARMA DE FUEGO                         54.210406\n",
       "VEHICULO                              16.843026\n",
       "ARMA BLANCA / CORTOPUNZANTE           14.282040\n",
       "MOTO                                   8.455413\n",
       "CONTUNDENTES                           2.464194\n",
       "-                                      1.161491\n",
       "SIN EMPLEO DE ARMAS                    0.750013\n",
       "NO REPORTADO                           0.496580\n",
       "BICICLETA                              0.253433\n",
       "ARTEFACTO EXPLOSIVO/CARGA DINAMITA     0.239873\n",
       "CUERDA/SOGA/CADENA                     0.199661\n",
       "MINA ANTIPERSONA                       0.149629\n",
       "BOLSA PLASTICA                         0.086504\n",
       "PUNZANTES                              0.070606\n",
       "GRANADA DE MANO                        0.062657\n",
       "CORTANTES                              0.053305\n",
       "COMBUSTIBLE                            0.036940\n",
       "TREN                                   0.034602\n",
       "CINTAS/CINTURON                        0.025250\n",
       "CILINDRO BOMBA                         0.021509\n",
       "ALMOHADA                               0.020574\n",
       "VENENO                                 0.013560\n",
       "CARRO BOMBA                            0.011690\n",
       "ARTEFACTO INCENDIARIO                  0.008884\n",
       "SUSTANCIAS TOXICAS                     0.008884\n",
       "MOTO BOMBA                             0.007481\n",
       "PAQUETE BOMBA                          0.005143\n",
       "CASA BOMBA                             0.005143\n",
       "GRANADA DE MORTERO                     0.004676\n",
       "QUIMICOS                               0.003273\n",
       "ACIDO                                  0.002806\n",
       "PRENDAS DE VESTIR                      0.002806\n",
       "ESCOPOLAMINA                           0.002338\n",
       "ROCKET                                 0.001403\n",
       "GASES                                  0.000935\n",
       "JERINGA                                0.000935\n",
       "OLLA BOMBA                             0.000468\n",
       "POLVORA(FUEGOS PIROTECNICOS)           0.000468\n",
       "PERSONA BOMBA                          0.000468\n",
       "MEDICAMENTOS                           0.000468\n",
       "LIQUIDOS                               0.000468\n",
       "Name: ARMAS MEDIOS, dtype: float64"
      ]
     },
     "execution_count": 12,
     "metadata": {},
     "output_type": "execute_result"
    }
   ],
   "source": [
    "## en este caso encontramos muchas mas armas o medio sin embargo el que predomina con un 54% son las armas de fuego \n",
    "arma_f_p = homicidio['ARMAS MEDIOS'].value_counts(normalize=True)*100\n",
    "arma_f_p\n"
   ]
  },
  {
   "cell_type": "code",
   "execution_count": 14,
   "id": "6310f9ea-360a-443d-b213-0d12d85db680",
   "metadata": {},
   "outputs": [
    {
     "data": {
      "text/plain": [
       "<AxesSubplot:>"
      ]
     },
     "execution_count": 14,
     "metadata": {},
     "output_type": "execute_result"
    },
    {
     "data": {
      "image/png": "[encoded data removed]",
      "text/plain": [
       "<Figure size 432x288 with 1 Axes>"
      ]
     },
     "metadata": {
      "needs_background": "light"
     },
     "output_type": "display_data"
    }
   ],
   "source": [
    "grupo_f = homicidio['GRUPO ETARÃO'].value_counts().plot(kind = \"bar\")\n",
    "grupo_f"
   ]
  },
  {
   "cell_type": "code",
   "execution_count": 15,
   "id": "a781df76-9238-4b27-ab3f-b0874c8d566b",
   "metadata": {},
   "outputs": [
    {
     "data": {
      "text/plain": [
       "ADULTOS        93.128779\n",
       "ADOLECENTES     5.113086\n",
       "MENORES         1.713714\n",
       "NO REPORTA      0.044421\n",
       "Name: GRUPO ETARÃO, dtype: float64"
      ]
     },
     "execution_count": 15,
     "metadata": {},
     "output_type": "execute_result"
    }
   ],
   "source": [
    "grupo_f_p = homicidio['GRUPO ETARÃO'].value_counts(normalize=True)*100\n",
    "grupo_f_p\n",
    "## en este caso vemos el evidente 93% de casos a personas adultas."
   ]
  },
  {
   "cell_type": "code",
   "execution_count": 16,
   "id": "28ce6837-64c4-45cb-a010-d496830e628b",
   "metadata": {},
   "outputs": [
    {
     "data": {
      "text/plain": [
       "<AxesSubplot:>"
      ]
     },
     "execution_count": 16,
     "metadata": {},
     "output_type": "execute_result"
    },
    {
     "data": {
      "image/png": "[encoded data removed]",
      "text/plain": [
       "<Figure size 432x288 with 1 Axes>"
      ]
     },
     "metadata": {
      "needs_background": "light"
     },
     "output_type": "display_data"
    }
   ],
   "source": [
    "genero_f = homicidio['GENERO'].value_counts().plot(kind = \"bar\")\n",
    "genero_f"
   ]
  },
  {
   "cell_type": "code",
   "execution_count": 17,
   "id": "1b646e4e-c385-44a0-8876-f37f6e60cdbe",
   "metadata": {},
   "outputs": [
    {
     "data": {
      "text/plain": [
       "MASCULINO     88.309806\n",
       "FEMENINO      11.654657\n",
       "-              0.021042\n",
       "NO REPORTA     0.014495\n",
       "Name: GENERO, dtype: float64"
      ]
     },
     "execution_count": 17,
     "metadata": {},
     "output_type": "execute_result"
    }
   ],
   "source": [
    "genero_f_p = homicidio['GENERO'].value_counts(normalize=True)*100\n",
    "genero_f_p\n",
    "## Como podemos ver en esta estadistica nos muestra como el genero masculino supera mucho al femenino  llevandose un 88% de los casos "
   ]
  },
  {
   "cell_type": "code",
   "execution_count": 18,
   "id": "9cfacad5-b00b-4844-ab36-0618526832cf",
   "metadata": {},
   "outputs": [
    {
     "data": {
      "text/html": [
       "<div>\n",
       "<style scoped>\n",
       "    .dataframe tbody tr th:only-of-type {\n",
       "        vertical-align: middle;\n",
       "    }\n",
       "\n",
       "    .dataframe tbody tr th {\n",
       "        vertical-align: top;\n",
       "    }\n",
       "\n",
       "    .dataframe thead th {\n",
       "        text-align: right;\n",
       "    }\n",
       "</style>\n",
       "<table border=\"1\" class=\"dataframe\">\n",
       "  <thead>\n",
       "    <tr style=\"text-align: right;\">\n",
       "      <th></th>\n",
       "      <th>FECHA HECHO</th>\n",
       "    </tr>\n",
       "  </thead>\n",
       "  <tbody>\n",
       "    <tr>\n",
       "      <th>1</th>\n",
       "      <td>19395</td>\n",
       "    </tr>\n",
       "    <tr>\n",
       "      <th>12</th>\n",
       "      <td>18941</td>\n",
       "    </tr>\n",
       "    <tr>\n",
       "      <th>5</th>\n",
       "      <td>18481</td>\n",
       "    </tr>\n",
       "  </tbody>\n",
       "</table>\n",
       "</div>"
      ],
      "text/plain": [
       "    FECHA HECHO\n",
       "1         19395\n",
       "12        18941\n",
       "5         18481"
      ]
     },
     "execution_count": 18,
     "metadata": {},
     "output_type": "execute_result"
    }
   ],
   "source": [
    "fechas_d=homicidio['FECHA HECHO'].dt.month.value_counts().to_frame()\n",
    "fechas_d.head(3)\n",
    "##4 Se puede evidenciar que la tendencia para cometer este delito es en el mes de enero (1), sin embargo el mes de diciembre no esta muy alejado,\n",
    "##como podemos ver son las fechas de fiestas en colombia "
   ]
  },
  {
   "cell_type": "code",
   "execution_count": 20,
   "id": "59dd7d4e-7071-431a-bfd5-fd367d6d69a6",
   "metadata": {},
   "outputs": [
    {
     "data": {
      "text/html": [
       "<div>\n",
       "<style scoped>\n",
       "    .dataframe tbody tr th:only-of-type {\n",
       "        vertical-align: middle;\n",
       "    }\n",
       "\n",
       "    .dataframe tbody tr th {\n",
       "        vertical-align: top;\n",
       "    }\n",
       "\n",
       "    .dataframe thead th {\n",
       "        text-align: right;\n",
       "    }\n",
       "</style>\n",
       "<table border=\"1\" class=\"dataframe\">\n",
       "  <thead>\n",
       "    <tr style=\"text-align: right;\">\n",
       "      <th></th>\n",
       "      <th>DESCRIPCIÃN CONDUCTA</th>\n",
       "    </tr>\n",
       "  </thead>\n",
       "  <tbody>\n",
       "    <tr>\n",
       "      <th>HOMICIDIO</th>\n",
       "      <td>154301</td>\n",
       "    </tr>\n",
       "    <tr>\n",
       "      <th>HOMICIDIO CULPOSO ( EN ACCIDENTE DE TRÃNSITO)</th>\n",
       "      <td>59562</td>\n",
       "    </tr>\n",
       "  </tbody>\n",
       "</table>\n",
       "</div>"
      ],
      "text/plain": [
       "                                                DESCRIPCIÃN CONDUCTA\n",
       "HOMICIDIO                                                      154301\n",
       "HOMICIDIO CULPOSO ( EN ACCIDENTE DE TRÃNSITO)                  59562"
      ]
     },
     "execution_count": 20,
     "metadata": {},
     "output_type": "execute_result"
    }
   ],
   "source": [
    "delito_f=homicidio['DESCRIPCIÃN CONDUCTA'].value_counts().to_frame()\n",
    "delito_f"
   ]
  },
  {
   "cell_type": "code",
   "execution_count": 21,
   "id": "2c2b9652-369b-415e-9aa3-0cb76bb650a9",
   "metadata": {},
   "outputs": [],
   "source": [
    "##En este caso solo existen dos tipos de homicidio estipulados en la constitucion colombiana "
   ]
  },
  {
   "cell_type": "code",
   "execution_count": null,
   "id": "8d2456a5-1a08-43ec-bfc2-c8b82b3f1690",
   "metadata": {},
   "outputs": [],
   "source": [
    "##Lamentablenmente los dataSet Seleccionados no cuentan con variables cuantitativas para poder realizar un analisis mas profondo de los datos. "
   ]
  }
 ],
 "metadata": {
  "kernelspec": {
   "display_name": "Python 3",
   "language": "python",
   "name": "python3"
  },
  "language_info": {
   "codemirror_mode": {
    "name": "ipython",
    "version": 3
   },
   "file_extension": ".py",
   "mimetype": "text/x-python",
   "name": "python",
   "nbconvert_exporter": "python",
   "pygments_lexer": "ipython3",
   "version": "3.8.8"
  }
 },
 "nbformat": 4,
 "nbformat_minor": 5
}
